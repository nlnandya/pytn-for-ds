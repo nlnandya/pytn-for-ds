{
 "cells": [
  {
   "cell_type": "code",
   "execution_count": 8,
   "id": "93165915",
   "metadata": {},
   "outputs": [],
   "source": [
    "import pickle\n",
    "\n",
    "pickleFileRead = open(\"../Sesi_13/iris_petal_model.pkl\", \"rb\")\n",
    "test_dataRead = open(\"../Sesi_13/iris_xtest_data.pkl\", \"rb\")\n",
    "test_data = pickle.load(test_dataRead)\n",
    "readClassifier = pickle.load(pickleFileRead)"
   ]
  },
  {
   "cell_type": "code",
   "execution_count": 11,
   "id": "788a6d15",
   "metadata": {},
   "outputs": [
    {
     "data": {
      "text/plain": [
       "array([1, 2, 2, 1, 0, 2, 0, 0, 1, 1, 2, 1, 1, 0, 0, 2, 2, 2, 0, 2, 0, 1,\n",
       "       1, 1, 2, 2, 2, 1, 2, 1, 0, 0, 0, 2, 1, 0, 2, 2])"
      ]
     },
     "execution_count": 11,
     "metadata": {},
     "output_type": "execute_result"
    }
   ],
   "source": [
    "readClassifier.predict(test_data)"
   ]
  }
 ],
 "metadata": {
  "kernelspec": {
   "display_name": "Python 3",
   "language": "python",
   "name": "python3"
  },
  "language_info": {
   "codemirror_mode": {
    "name": "ipython",
    "version": 3
   },
   "file_extension": ".py",
   "mimetype": "text/x-python",
   "name": "python",
   "nbconvert_exporter": "python",
   "pygments_lexer": "ipython3",
   "version": "3.8.8"
  },
  "toc": {
   "base_numbering": 1,
   "nav_menu": {},
   "number_sections": true,
   "sideBar": true,
   "skip_h1_title": false,
   "title_cell": "Table of Contents",
   "title_sidebar": "Contents",
   "toc_cell": false,
   "toc_position": {},
   "toc_section_display": true,
   "toc_window_display": false
  }
 },
 "nbformat": 4,
 "nbformat_minor": 5
}
