{
 "cells": [
  {
   "cell_type": "markdown",
   "id": "2c6329bb",
   "metadata": {},
   "source": [
    "weather sunny = 0,  overcast = 1, rainy=2\n",
    "temp hot = 0, mild=1, cool=2\n",
    "result yes=1 no = 0"
   ]
  },
  {
   "cell_type": "code",
   "execution_count": 1,
   "id": "29315717",
   "metadata": {},
   "outputs": [],
   "source": [
    "weather_translate = [\"Sunny\", \"overcast\", \"rainy\"]\n",
    "temp_translate = [\"hot\", \"mild\", \"cool\"]\n",
    "result_translate = [\"no\", \"yes\"]"
   ]
  },
  {
   "cell_type": "code",
   "execution_count": 13,
   "id": "4e3f88e9",
   "metadata": {},
   "outputs": [],
   "source": [
    "weather = [\"Sunny\", \"Sunny\", \"Overcast\", \"Rainy\", \"Rainy\", \"Rainy\", \"Overcast\", \n",
    "           \"Sunny\", \"Sunny\", \"Rainy\", \"Sunny\", \"Overcast\", \"Overcast\", \"Rainy\"]\n",
    "temp =[\"hot\", \"hot\", \"hot\", \"mild\", \"cool\", \"cool\",\"cool\", \"mild\", \"cool\",\"mild\",\"mild\",\"mild\" , \"hot\", \"mild\"]\n",
    "result = [\"no\",\"no\", \"yes\", \"yes\", \"yes\", \"no\", \"yes\",\"no\", \"yes\",\"yes\",\"yes\",\"yes\",\"yes\",\"no\" ]"
   ]
  },
  {
   "cell_type": "code",
   "execution_count": 14,
   "id": "6e9f37f1",
   "metadata": {},
   "outputs": [],
   "source": [
    "import numpy as np\n",
    "from sklearn import preprocessing\n",
    "from sklearn.neighbors import KNeighborsClassifier\n"
   ]
  },
  {
   "cell_type": "code",
   "execution_count": 15,
   "id": "03180af4",
   "metadata": {},
   "outputs": [],
   "source": [
    "label_encode = preprocessing.LabelEncoder()\n",
    "\n",
    "weather_encode = label_encode.fit_transform(weather)\n",
    "temp_encode = label_encode.fit_transform(temp)\n",
    "result = label_encode.fit_transform(result)"
   ]
  },
  {
   "cell_type": "code",
   "execution_count": 16,
   "id": "e995855d",
   "metadata": {},
   "outputs": [
    {
     "data": {
      "text/plain": [
       "array([0, 0, 1, 1, 1, 0, 1, 0, 1, 1, 1, 1, 1, 0], dtype=int64)"
      ]
     },
     "execution_count": 16,
     "metadata": {},
     "output_type": "execute_result"
    }
   ],
   "source": [
    "result"
   ]
  },
  {
   "cell_type": "code",
   "execution_count": 17,
   "id": "5d7a9f2c",
   "metadata": {},
   "outputs": [],
   "source": [
    "features = list(zip(weather_encode, temp_encode))"
   ]
  },
  {
   "cell_type": "code",
   "execution_count": 18,
   "id": "bb9411c2",
   "metadata": {},
   "outputs": [
    {
     "data": {
      "text/plain": [
       "[(2, 1),\n",
       " (2, 1),\n",
       " (0, 1),\n",
       " (1, 2),\n",
       " (1, 0),\n",
       " (1, 0),\n",
       " (0, 0),\n",
       " (2, 2),\n",
       " (2, 0),\n",
       " (1, 2),\n",
       " (2, 2),\n",
       " (0, 2),\n",
       " (0, 1),\n",
       " (1, 2)]"
      ]
     },
     "execution_count": 18,
     "metadata": {},
     "output_type": "execute_result"
    }
   ],
   "source": [
    "features"
   ]
  },
  {
   "cell_type": "code",
   "execution_count": 1,
   "id": "21f1301f",
   "metadata": {},
   "outputs": [
    {
     "data": {
      "text/plain": [
       "'C:\\\\Users\\\\resty\\\\Hacktiv8\\\\Class\\\\session_class\\\\Sesi_12'"
      ]
     },
     "execution_count": 1,
     "metadata": {},
     "output_type": "execute_result"
    }
   ],
   "source": [
    "pwd"
   ]
  },
  {
   "cell_type": "code",
   "execution_count": null,
   "id": "783d1638",
   "metadata": {},
   "outputs": [],
   "source": []
  }
 ],
 "metadata": {
  "kernelspec": {
   "display_name": "Python 3",
   "language": "python",
   "name": "python3"
  },
  "language_info": {
   "codemirror_mode": {
    "name": "ipython",
    "version": 3
   },
   "file_extension": ".py",
   "mimetype": "text/x-python",
   "name": "python",
   "nbconvert_exporter": "python",
   "pygments_lexer": "ipython3",
   "version": "3.8.8"
  },
  "toc": {
   "base_numbering": 1,
   "nav_menu": {},
   "number_sections": true,
   "sideBar": true,
   "skip_h1_title": false,
   "title_cell": "Table of Contents",
   "title_sidebar": "Contents",
   "toc_cell": false,
   "toc_position": {},
   "toc_section_display": true,
   "toc_window_display": false
  }
 },
 "nbformat": 4,
 "nbformat_minor": 5
}
