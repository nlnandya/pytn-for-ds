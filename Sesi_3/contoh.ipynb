{
 "cells": [
  {
   "cell_type": "code",
   "execution_count": 29,
   "id": "e7ecb752",
   "metadata": {},
   "outputs": [
    {
     "ename": "TypeError",
     "evalue": "can only concatenate str (not \"int\") to str",
     "output_type": "error",
     "traceback": [
      "\u001b[1;31m---------------------------------------------------------------------------\u001b[0m",
      "\u001b[1;31mTypeError\u001b[0m                                 Traceback (most recent call last)",
      "\u001b[1;32m<ipython-input-29-1e899c653af5>\u001b[0m in \u001b[0;36m<module>\u001b[1;34m\u001b[0m\n\u001b[0;32m      7\u001b[0m     \u001b[0mj\u001b[0m \u001b[1;33m=\u001b[0m \u001b[1;36m0\u001b[0m\u001b[1;33m\u001b[0m\u001b[1;33m\u001b[0m\u001b[0m\n\u001b[0;32m      8\u001b[0m     \u001b[1;32mwhile\u001b[0m \u001b[0mj\u001b[0m \u001b[1;33m<\u001b[0m \u001b[0mcol\u001b[0m\u001b[1;33m:\u001b[0m\u001b[1;33m\u001b[0m\u001b[1;33m\u001b[0m\u001b[0m\n\u001b[1;32m----> 9\u001b[1;33m         \u001b[0mdisp\u001b[0m \u001b[1;33m+=\u001b[0m \u001b[0mi\u001b[0m\u001b[1;33m\u001b[0m\u001b[1;33m\u001b[0m\u001b[0m\n\u001b[0m\u001b[0;32m     10\u001b[0m         \u001b[0mj\u001b[0m \u001b[1;33m+=\u001b[0m \u001b[1;36m1\u001b[0m\u001b[1;33m\u001b[0m\u001b[1;33m\u001b[0m\u001b[0m\n\u001b[0;32m     11\u001b[0m     \u001b[0mdisp\u001b[0m \u001b[1;33m+=\u001b[0m\u001b[1;34m\"\\n\"\u001b[0m\u001b[1;33m\u001b[0m\u001b[1;33m\u001b[0m\u001b[0m\n",
      "\u001b[1;31mTypeError\u001b[0m: can only concatenate str (not \"int\") to str"
     ]
    }
   ],
   "source": [
    "row = 7\n",
    "col = 7\n",
    "i = 0\n",
    "disp = \"\"\n",
    "\n",
    "while i < row:\n",
    "    j = 0\n",
    "    while j < col:\n",
    "        disp += i\n",
    "        j += 1\n",
    "    disp +=\"\\n\"\n",
    "    i+=1\n",
    "return disp\n",
    "print(disp)"
   ]
  },
  {
   "cell_type": "code",
   "execution_count": 1,
   "id": "4d0ca554",
   "metadata": {},
   "outputs": [
    {
     "data": {
      "text/plain": [
       "'*\\n**\\n***\\n****\\n*****\\n******\\n*******\\n'"
      ]
     },
     "execution_count": 1,
     "metadata": {},
     "output_type": "execute_result"
    }
   ],
   "source": [
    "def starStair(step):\n",
    "    row = step\n",
    "    i = 0\n",
    "    disp = \"\"\n",
    "    while i < row:\n",
    "        col = i + 1\n",
    "        j = 0\n",
    "        while j < col:\n",
    "            disp += \"*\"\n",
    "            j += 1\n",
    "        disp += \"\\n\"\n",
    "        i+=1\n",
    "    return disp\n",
    "\n",
    "starStair(7)"
   ]
  },
  {
   "cell_type": "code",
   "execution_count": 2,
   "id": "c6c3f4ac",
   "metadata": {},
   "outputs": [
    {
     "name": "stdout",
     "output_type": "stream",
     "text": [
      "*\n",
      "**\n",
      "***\n",
      "****\n",
      "*****\n",
      "******\n",
      "*******\n",
      "\n"
     ]
    }
   ],
   "source": [
    "print(starStair(7))"
   ]
  },
  {
   "cell_type": "code",
   "execution_count": 3,
   "id": "bcb6a51b",
   "metadata": {},
   "outputs": [],
   "source": [
    "def starStairPrint(step):\n",
    "    row = step\n",
    "    i = 0\n",
    "    disp = \"\"\n",
    "    while i < row:\n",
    "        col = i + 1\n",
    "        j = 0\n",
    "        while j < col:\n",
    "            disp += \"*\"\n",
    "            j += 1\n",
    "        disp += \"\\n\"\n",
    "        i+=1\n",
    "    print(disp)"
   ]
  },
  {
   "cell_type": "code",
   "execution_count": 4,
   "id": "83c1e017",
   "metadata": {},
   "outputs": [
    {
     "name": "stdout",
     "output_type": "stream",
     "text": [
      "*\n",
      "**\n",
      "***\n",
      "****\n",
      "*****\n",
      "******\n",
      "*******\n",
      "\n",
      "None\n",
      "*\n",
      "**\n",
      "***\n",
      "****\n",
      "*****\n",
      "******\n",
      "*******\n",
      "\n"
     ]
    }
   ],
   "source": [
    "print(starStairPrint(7))\n",
    "print(starStair(7))"
   ]
  },
  {
   "cell_type": "code",
   "execution_count": 5,
   "id": "c99537f4",
   "metadata": {},
   "outputs": [],
   "source": [
    "def quadradNoReturn(num):\n",
    "    hasil = num * num\n",
    "def quadradReturn(num):\n",
    "    hasil = num * num\n",
    "    return hasil"
   ]
  },
  {
   "cell_type": "code",
   "execution_count": 6,
   "id": "dc2ab6a4",
   "metadata": {},
   "outputs": [
    {
     "name": "stdout",
     "output_type": "stream",
     "text": [
      "35\n"
     ]
    }
   ],
   "source": [
    "# f(x) = 10 * x^2\n",
    "hasil = 10 + quadradReturn(5)\n",
    "print(hasil)"
   ]
  },
  {
   "cell_type": "code",
   "execution_count": 32,
   "id": "a206a21f",
   "metadata": {},
   "outputs": [
    {
     "ename": "NameError",
     "evalue": "name 'quadradNoReturn' is not defined",
     "output_type": "error",
     "traceback": [
      "\u001b[1;31m---------------------------------------------------------------------------\u001b[0m",
      "\u001b[1;31mNameError\u001b[0m                                 Traceback (most recent call last)",
      "\u001b[1;32m<ipython-input-32-bf2cada83208>\u001b[0m in \u001b[0;36m<module>\u001b[1;34m\u001b[0m\n\u001b[1;32m----> 1\u001b[1;33m \u001b[0mhasil\u001b[0m \u001b[1;33m=\u001b[0m \u001b[1;36m10\u001b[0m \u001b[1;33m+\u001b[0m \u001b[0mquadradNoReturn\u001b[0m\u001b[1;33m(\u001b[0m\u001b[1;36m5\u001b[0m\u001b[1;33m)\u001b[0m\u001b[1;33m\u001b[0m\u001b[1;33m\u001b[0m\u001b[0m\n\u001b[0m\u001b[0;32m      2\u001b[0m \u001b[0mprint\u001b[0m\u001b[1;33m(\u001b[0m\u001b[0mhasil\u001b[0m\u001b[1;33m)\u001b[0m\u001b[1;33m\u001b[0m\u001b[1;33m\u001b[0m\u001b[0m\n",
      "\u001b[1;31mNameError\u001b[0m: name 'quadradNoReturn' is not defined"
     ]
    }
   ],
   "source": [
    "hasil = 10 + quadradNoReturn(5)\n",
    "print(hasil)"
   ]
  },
  {
   "cell_type": "code",
   "execution_count": null,
   "id": "11470d36",
   "metadata": {},
   "outputs": [],
   "source": [
    "# f(x) = 10 * x^2\n",
    "\n",
    "de"
   ]
  },
  {
   "cell_type": "markdown",
   "id": "a5d3c572",
   "metadata": {},
   "source": [
    "myage= 0\n",
    "adultTreshold = 18\n",
    "\n",
    "myage = input(\"please input number\")\n",
    "myage = int(myage)\n",
    "\n",
    "if myage >= adultTreshold:\n",
    "    print(\"you are adult\")\n",
    "    print(\"lets drink\")\n",
    "else:\n",
    "    yearsToaduld = adultTreshold - myage\n",
    "    print(\"you are under age lets wait {} more years \".format(yearsToaduld))\n",
    "\n",
    "print(\"di luar scoupe if\")"
   ]
  },
  {
   "cell_type": "code",
   "execution_count": 33,
   "id": "8ece65bc",
   "metadata": {},
   "outputs": [
    {
     "name": "stdout",
     "output_type": "stream",
     "text": [
      "please input number12\n"
     ]
    },
    {
     "data": {
      "text/plain": [
       "'you are under age lets wait 6 mpre years'"
      ]
     },
     "execution_count": 33,
     "metadata": {},
     "output_type": "execute_result"
    }
   ],
   "source": [
    "def canIdrink(age):\n",
    "    if not age.isnumeric():\n",
    "        return\n",
    "    myage = int(age)\n",
    "    if myage >= adultTreshold:\n",
    "        return \"you are adult \\n lets drink\"\n",
    "    else:\n",
    "        yearsToaduld = adultTreshold - myage\n",
    "        return \"you are under age lets wait {} mpre years\".format(yearsToaduld)\n",
    "\n",
    "myage = 0\n",
    "adultTreshold = 18\n",
    "\n",
    "myage = input(\"please input number\")\n",
    "canIdrink(myage)"
   ]
  },
  {
   "cell_type": "code",
   "execution_count": 2,
   "id": "00056f95",
   "metadata": {},
   "outputs": [
    {
     "name": "stdout",
     "output_type": "stream",
     "text": [
      "please input number: 12\n",
      "you are under age lets wait 6 more years\n"
     ]
    }
   ],
   "source": [
    "#challenge\n",
    "def age():\n",
    "    myAge = int(input(\"please input number: \"))\n",
    "    adult = 18\n",
    "    \n",
    "    if myAge >= adult:\n",
    "        print(\"youu are adult\")\n",
    "    else:\n",
    "        yearsToAdult = adult - myAge\n",
    "        print(\"you are under age lets wait {} more years\".format(yearsToAdult))\n",
    "        \n",
    "age()"
   ]
  },
  {
   "cell_type": "code",
   "execution_count": 12,
   "id": "390251e7",
   "metadata": {},
   "outputs": [
    {
     "data": {
      "text/plain": [
       "<function str.isnumeric()>"
      ]
     },
     "execution_count": 12,
     "metadata": {},
     "output_type": "execute_result"
    }
   ],
   "source": [
    "a=\"asa\"\n",
    "a.isnumeric"
   ]
  },
  {
   "cell_type": "code",
   "execution_count": 11,
   "id": "76388795",
   "metadata": {},
   "outputs": [
    {
     "name": "stdout",
     "output_type": "stream",
     "text": [
      "hello nama saya nan\n",
      "Hobby saya coding\n"
     ]
    }
   ],
   "source": [
    "def printHello(nama, hobby):\n",
    "    print(\"hello nama saya\", nama)\n",
    "    print(\"Hobby saya\", hobby)\n",
    "printHello(\"nan\", \"coding\")"
   ]
  },
  {
   "cell_type": "code",
   "execution_count": 16,
   "id": "09c2be34",
   "metadata": {},
   "outputs": [
    {
     "name": "stdout",
     "output_type": "stream",
     "text": [
      "hello nama saya coding\n",
      "Hobby saya ego\n"
     ]
    }
   ],
   "source": [
    "printHello(hobby = \"ego\", nama = \"coding\")"
   ]
  },
  {
   "cell_type": "code",
   "execution_count": 20,
   "id": "f1b82809",
   "metadata": {},
   "outputs": [
    {
     "data": {
      "text/plain": [
       "4"
      ]
     },
     "execution_count": 20,
     "metadata": {},
     "output_type": "execute_result"
    }
   ],
   "source": [
    "def tambah(a, b, *res):\n",
    "    hasil = a + b\n",
    "    for i in res:\n",
    "        hasil += 1\n",
    "    return hasil\n",
    "\n",
    "tambah(1,2,2)"
   ]
  },
  {
   "cell_type": "code",
   "execution_count": 27,
   "id": "12018b82",
   "metadata": {},
   "outputs": [
    {
     "data": {
      "text/plain": [
       "10"
      ]
     },
     "execution_count": 27,
     "metadata": {},
     "output_type": "execute_result"
    }
   ],
   "source": [
    "tambah(1,3,4,6,7,8,9,10)"
   ]
  },
  {
   "cell_type": "code",
   "execution_count": 30,
   "id": "04950508",
   "metadata": {},
   "outputs": [
    {
     "ename": "NameError",
     "evalue": "name 'hasil' is not defined",
     "output_type": "error",
     "traceback": [
      "\u001b[1;31m---------------------------------------------------------------------------\u001b[0m",
      "\u001b[1;31mNameError\u001b[0m                                 Traceback (most recent call last)",
      "\u001b[1;32m<ipython-input-30-2b48c8de36b4>\u001b[0m in \u001b[0;36m<module>\u001b[1;34m\u001b[0m\n\u001b[0;32m      5\u001b[0m     \u001b[1;32mreturn\u001b[0m \u001b[0mhasil\u001b[0m\u001b[1;33m\u001b[0m\u001b[1;33m\u001b[0m\u001b[0m\n\u001b[0;32m      6\u001b[0m \u001b[1;33m\u001b[0m\u001b[0m\n\u001b[1;32m----> 7\u001b[1;33m \u001b[0mprint\u001b[0m\u001b[1;33m(\u001b[0m\u001b[0mhasil\u001b[0m\u001b[1;33m)\u001b[0m\u001b[1;33m\u001b[0m\u001b[1;33m\u001b[0m\u001b[0m\n\u001b[0m",
      "\u001b[1;31mNameError\u001b[0m: name 'hasil' is not defined"
     ]
    }
   ],
   "source": [
    "def tambah(a, b, *res):\n",
    "    hasil = a + b\n",
    "    for i in res:\n",
    "        hasil += 1\n",
    "    return hasil\n",
    "\n",
    "print(hasil)"
   ]
  },
  {
   "cell_type": "code",
   "execution_count": 29,
   "id": "da33c686",
   "metadata": {},
   "outputs": [
    {
     "name": "stdout",
     "output_type": "stream",
     "text": [
      "global var\n"
     ]
    },
    {
     "data": {
      "text/plain": [
       "15"
      ]
     },
     "execution_count": 29,
     "metadata": {},
     "output_type": "execute_result"
    }
   ],
   "source": [
    "globalVar = \"global var\"\n",
    "\n",
    "def tambah(a, b, *res):\n",
    "    print(globalVar)\n",
    "    hasil = a + b\n",
    "    for i in res:\n",
    "        hasil += 1\n",
    "    return hasil\n",
    "\n",
    "#print(hasil)\n",
    "tambah(7, 8)"
   ]
  },
  {
   "cell_type": "code",
   "execution_count": 31,
   "id": "91374afc",
   "metadata": {
    "scrolled": true
   },
   "outputs": [
    {
     "name": "stdout",
     "output_type": "stream",
     "text": [
      "my outer var\n"
     ]
    },
    {
     "ename": "NameError",
     "evalue": "name 'inerVar' is not defined",
     "output_type": "error",
     "traceback": [
      "\u001b[1;31m---------------------------------------------------------------------------\u001b[0m",
      "\u001b[1;31mNameError\u001b[0m                                 Traceback (most recent call last)",
      "\u001b[1;32m<ipython-input-31-a6a8a8c50edf>\u001b[0m in \u001b[0;36m<module>\u001b[1;34m\u001b[0m\n\u001b[0;32m      6\u001b[0m     \u001b[0minifunc\u001b[0m\u001b[1;33m(\u001b[0m\u001b[1;33m)\u001b[0m\u001b[1;33m\u001b[0m\u001b[1;33m\u001b[0m\u001b[0m\n\u001b[0;32m      7\u001b[0m     \u001b[0mprint\u001b[0m\u001b[1;33m(\u001b[0m\u001b[0minerVar\u001b[0m\u001b[1;33m)\u001b[0m\u001b[1;33m\u001b[0m\u001b[1;33m\u001b[0m\u001b[0m\n\u001b[1;32m----> 8\u001b[1;33m \u001b[0mnestedFun\u001b[0m\u001b[1;33m(\u001b[0m\u001b[1;33m)\u001b[0m\u001b[1;33m\u001b[0m\u001b[1;33m\u001b[0m\u001b[0m\n\u001b[0m",
      "\u001b[1;32m<ipython-input-31-a6a8a8c50edf>\u001b[0m in \u001b[0;36mnestedFun\u001b[1;34m()\u001b[0m\n\u001b[0;32m      5\u001b[0m         \u001b[0mprint\u001b[0m\u001b[1;33m(\u001b[0m\u001b[0mouterVar\u001b[0m\u001b[1;33m)\u001b[0m\u001b[1;33m\u001b[0m\u001b[1;33m\u001b[0m\u001b[0m\n\u001b[0;32m      6\u001b[0m     \u001b[0minifunc\u001b[0m\u001b[1;33m(\u001b[0m\u001b[1;33m)\u001b[0m\u001b[1;33m\u001b[0m\u001b[1;33m\u001b[0m\u001b[0m\n\u001b[1;32m----> 7\u001b[1;33m     \u001b[0mprint\u001b[0m\u001b[1;33m(\u001b[0m\u001b[0minerVar\u001b[0m\u001b[1;33m)\u001b[0m\u001b[1;33m\u001b[0m\u001b[1;33m\u001b[0m\u001b[0m\n\u001b[0m\u001b[0;32m      8\u001b[0m \u001b[0mnestedFun\u001b[0m\u001b[1;33m(\u001b[0m\u001b[1;33m)\u001b[0m\u001b[1;33m\u001b[0m\u001b[1;33m\u001b[0m\u001b[0m\n",
      "\u001b[1;31mNameError\u001b[0m: name 'inerVar' is not defined"
     ]
    }
   ],
   "source": [
    "def nestedFun():\n",
    "    outerVar = \"my outer var\"\n",
    "    def inifunc():\n",
    "        inerVar = \"inner var\"\n",
    "        print(outerVar)\n",
    "    inifunc()\n",
    "    print(inerVar)\n",
    "nestedFun()"
   ]
  },
  {
   "cell_type": "code",
   "execution_count": 33,
   "id": "d29c6b78",
   "metadata": {},
   "outputs": [],
   "source": [
    "#BUAT FUNCTION PENAMBAHAN PERKALIAN PAKAI *RES\n"
   ]
  },
  {
   "cell_type": "code",
   "execution_count": null,
   "id": "86d4a42c",
   "metadata": {},
   "outputs": [],
   "source": [
    "# f(x,y,z) = 10x + y^2 + z*5"
   ]
  },
  {
   "cell_type": "code",
   "execution_count": null,
   "id": "83ccf982",
   "metadata": {},
   "outputs": [],
   "source": []
  },
  {
   "cell_type": "code",
   "execution_count": null,
   "id": "1ca72cda",
   "metadata": {},
   "outputs": [],
   "source": []
  }
 ],
 "metadata": {
  "kernelspec": {
   "display_name": "Python 3",
   "language": "python",
   "name": "python3"
  },
  "language_info": {
   "codemirror_mode": {
    "name": "ipython",
    "version": 3
   },
   "file_extension": ".py",
   "mimetype": "text/x-python",
   "name": "python",
   "nbconvert_exporter": "python",
   "pygments_lexer": "ipython3",
   "version": "3.8.8"
  },
  "toc": {
   "base_numbering": 1,
   "nav_menu": {},
   "number_sections": true,
   "sideBar": true,
   "skip_h1_title": false,
   "title_cell": "Table of Contents",
   "title_sidebar": "Contents",
   "toc_cell": false,
   "toc_position": {},
   "toc_section_display": true,
   "toc_window_display": false
  }
 },
 "nbformat": 4,
 "nbformat_minor": 5
}
