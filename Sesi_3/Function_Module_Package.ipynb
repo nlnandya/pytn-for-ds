{
 "cells": [
  {
   "cell_type": "code",
   "execution_count": 22,
   "id": "423017db",
   "metadata": {},
   "outputs": [
    {
     "data": {
      "text/plain": [
       "'*\\n**\\n***\\n****\\n*****\\n******\\n*******\\n'"
      ]
     },
     "execution_count": 22,
     "metadata": {},
     "output_type": "execute_result"
    }
   ],
   "source": [
    "def starStair(step):\n",
    "    row = step\n",
    "    i = 0\n",
    "    disp = \"\"\n",
    "    while i < row:\n",
    "        col = i + 1\n",
    "        j = 0\n",
    "        while j < col:\n",
    "            disp += \"*\"\n",
    "            j += 1\n",
    "        disp += \"\\n\"\n",
    "        i+=1\n",
    "    return disp\n",
    "\n",
    "starStair(7)"
   ]
  },
  {
   "cell_type": "code",
   "execution_count": 23,
   "id": "e5a066af",
   "metadata": {},
   "outputs": [
    {
     "name": "stdout",
     "output_type": "stream",
     "text": [
      "*\n",
      "**\n",
      "***\n",
      "****\n",
      "*****\n",
      "******\n",
      "*******\n",
      "\n"
     ]
    }
   ],
   "source": [
    "print(starStair(7))"
   ]
  },
  {
   "cell_type": "code",
   "execution_count": 24,
   "id": "43f051fe",
   "metadata": {},
   "outputs": [],
   "source": [
    "def starStairPrint(step):\n",
    "    row = step\n",
    "    i = 0\n",
    "    disp = \"\"\n",
    "    while i < row:\n",
    "        col = i + 1\n",
    "        j = 0\n",
    "        while j < col:\n",
    "            disp += \"*\"\n",
    "            j += 1\n",
    "        disp += \"\\n\"\n",
    "        i+=1\n",
    "    print(disp)"
   ]
  },
  {
   "cell_type": "code",
   "execution_count": 25,
   "id": "ad3a63f9",
   "metadata": {},
   "outputs": [
    {
     "name": "stdout",
     "output_type": "stream",
     "text": [
      "*\n",
      "**\n",
      "***\n",
      "****\n",
      "*****\n",
      "******\n",
      "*******\n",
      "\n",
      "None\n",
      "*\n",
      "**\n",
      "***\n",
      "****\n",
      "*****\n",
      "******\n",
      "*******\n",
      "\n"
     ]
    }
   ],
   "source": [
    "print(starStairPrint(7))\n",
    "print(starStair(7))"
   ]
  },
  {
   "cell_type": "code",
   "execution_count": 2,
   "id": "62dfe289",
   "metadata": {},
   "outputs": [],
   "source": [
    "def quadradNoReturn(num):\n",
    "    hasil = num * num\n",
    "def quadradReturn(num):\n",
    "    hasil = num * num\n",
    "    return hasil"
   ]
  },
  {
   "cell_type": "code",
   "execution_count": 3,
   "id": "39e21a66",
   "metadata": {},
   "outputs": [
    {
     "name": "stdout",
     "output_type": "stream",
     "text": [
      "35\n"
     ]
    }
   ],
   "source": [
    "# f(x) = 10 * x^2\n",
    "hasil = 10 + quadradReturn(5)\n",
    "print(hasil)"
   ]
  },
  {
   "cell_type": "code",
   "execution_count": 4,
   "id": "7bb3c4a6",
   "metadata": {},
   "outputs": [
    {
     "ename": "TypeError",
     "evalue": "unsupported operand type(s) for +: 'int' and 'NoneType'",
     "output_type": "error",
     "traceback": [
      "\u001b[1;31m---------------------------------------------------------------------------\u001b[0m",
      "\u001b[1;31mTypeError\u001b[0m                                 Traceback (most recent call last)",
      "\u001b[1;32m<ipython-input-4-bf2cada83208>\u001b[0m in \u001b[0;36m<module>\u001b[1;34m\u001b[0m\n\u001b[1;32m----> 1\u001b[1;33m \u001b[0mhasil\u001b[0m \u001b[1;33m=\u001b[0m \u001b[1;36m10\u001b[0m \u001b[1;33m+\u001b[0m \u001b[0mquadradNoReturn\u001b[0m\u001b[1;33m(\u001b[0m\u001b[1;36m5\u001b[0m\u001b[1;33m)\u001b[0m\u001b[1;33m\u001b[0m\u001b[1;33m\u001b[0m\u001b[0m\n\u001b[0m\u001b[0;32m      2\u001b[0m \u001b[0mprint\u001b[0m\u001b[1;33m(\u001b[0m\u001b[0mhasil\u001b[0m\u001b[1;33m)\u001b[0m\u001b[1;33m\u001b[0m\u001b[1;33m\u001b[0m\u001b[0m\n",
      "\u001b[1;31mTypeError\u001b[0m: unsupported operand type(s) for +: 'int' and 'NoneType'"
     ]
    }
   ],
   "source": [
    "hasil = 10 + quadradNoReturn(5)\n",
    "print(hasil)"
   ]
  },
  {
   "cell_type": "code",
   "execution_count": 5,
   "id": "2ab1c941",
   "metadata": {},
   "outputs": [
    {
     "name": "stdout",
     "output_type": "stream",
     "text": [
      "please input number12\n"
     ]
    },
    {
     "data": {
      "text/plain": [
       "'you are under age lets wait 6 mpre years'"
      ]
     },
     "execution_count": 5,
     "metadata": {},
     "output_type": "execute_result"
    }
   ],
   "source": [
    "def canIdrink(age):\n",
    "    if not age.isnumeric():\n",
    "        return\n",
    "    myage = int(age)\n",
    "    if myage >= adultTreshold:\n",
    "        return \"you are adult \\n lets drink\"\n",
    "    else:\n",
    "        yearsToaduld = adultTreshold - myage\n",
    "        return \"you are under age lets wait {} mpre years\".format(yearsToaduld)\n",
    "\n",
    "myage = 0\n",
    "adultTreshold = 18\n",
    "\n",
    "myage = input(\"please input number\")\n",
    "canIdrink(myage)"
   ]
  },
  {
   "cell_type": "code",
   "execution_count": null,
   "id": "542b0249",
   "metadata": {},
   "outputs": [],
   "source": [
    "#challenge\n",
    "def age():\n",
    "    myAge = int(input(\"please input number: \"))\n",
    "    adult = 18\n",
    "    \n",
    "    if myAge >= adult:\n",
    "        print(\"youu are adult\")\n",
    "    else:\n",
    "        yearsToAdult = adult - myAge\n",
    "        print(\"you are under age lets wait {} more years\".format(yearsToAdult))\n",
    "        \n",
    "age()"
   ]
  },
  {
   "cell_type": "code",
   "execution_count": 26,
   "id": "a272175a",
   "metadata": {},
   "outputs": [
    {
     "data": {
      "text/plain": [
       "<function str.isnumeric()>"
      ]
     },
     "execution_count": 26,
     "metadata": {},
     "output_type": "execute_result"
    }
   ],
   "source": [
    "a=\"asa\"\n",
    "a.isnumeric"
   ]
  },
  {
   "cell_type": "code",
   "execution_count": 27,
   "id": "24318165",
   "metadata": {},
   "outputs": [
    {
     "name": "stdout",
     "output_type": "stream",
     "text": [
      "hello nama saya nan\n",
      "Hobby saya coding\n"
     ]
    }
   ],
   "source": [
    "def printHello(nama, hobby):\n",
    "    print(\"hello nama saya\", nama)\n",
    "    print(\"Hobby saya\", hobby)\n",
    "printHello(\"nan\", \"coding\")"
   ]
  },
  {
   "cell_type": "code",
   "execution_count": 28,
   "id": "9bbad6a9",
   "metadata": {},
   "outputs": [
    {
     "name": "stdout",
     "output_type": "stream",
     "text": [
      "hello nama saya coding\n",
      "Hobby saya ego\n"
     ]
    }
   ],
   "source": [
    "printHello(hobby = \"ego\", nama = \"coding\")"
   ]
  },
  {
   "cell_type": "code",
   "execution_count": 29,
   "id": "f282b619",
   "metadata": {},
   "outputs": [
    {
     "data": {
      "text/plain": [
       "4"
      ]
     },
     "execution_count": 29,
     "metadata": {},
     "output_type": "execute_result"
    }
   ],
   "source": [
    "def tambah(a, b, *res):\n",
    "    hasil = a + b\n",
    "    for i in res:\n",
    "        hasil += 1\n",
    "    return hasil\n",
    "\n",
    "tambah(1,2,2)"
   ]
  },
  {
   "cell_type": "code",
   "execution_count": 30,
   "id": "2ee495c1",
   "metadata": {},
   "outputs": [
    {
     "data": {
      "text/plain": [
       "10"
      ]
     },
     "execution_count": 30,
     "metadata": {},
     "output_type": "execute_result"
    }
   ],
   "source": [
    "tambah(1,3,4,6,7,8,9,10)"
   ]
  },
  {
   "cell_type": "code",
   "execution_count": 3,
   "id": "712cb414",
   "metadata": {},
   "outputs": [
    {
     "name": "stdout",
     "output_type": "stream",
     "text": [
      "global var\n"
     ]
    },
    {
     "data": {
      "text/plain": [
       "17"
      ]
     },
     "execution_count": 3,
     "metadata": {},
     "output_type": "execute_result"
    }
   ],
   "source": [
    "globalVar = \"global var\"\n",
    "\n",
    "def tambah(a, b, *res):\n",
    "    print(globalVar)\n",
    "    hasil = a + b\n",
    "    for i in res:\n",
    "        hasil += 1\n",
    "    return hasil\n",
    "\n",
    "#print(hasil)\n",
    "tambah(8,9)"
   ]
  },
  {
   "cell_type": "code",
   "execution_count": 20,
   "id": "0fef2ae2",
   "metadata": {},
   "outputs": [
    {
     "name": "stdout",
     "output_type": "stream",
     "text": [
      "6\n"
     ]
    }
   ],
   "source": [
    "#f(x, y, z) = 10x + y^2 + x*5\n",
    "\n",
    "def sum(numbers):\n",
    "    total = 0\n",
    "    for x in numbers:\n",
    "        total += x\n",
    "    return total\n",
    "print(sum([1,2,3]))"
   ]
  },
  {
   "cell_type": "code",
   "execution_count": 1,
   "id": "5feca045",
   "metadata": {},
   "outputs": [
    {
     "name": "stdout",
     "output_type": "stream",
     "text": [
      "my outer var\n"
     ]
    },
    {
     "ename": "NameError",
     "evalue": "name 'inerVar' is not defined",
     "output_type": "error",
     "traceback": [
      "\u001b[1;31m---------------------------------------------------------------------------\u001b[0m",
      "\u001b[1;31mNameError\u001b[0m                                 Traceback (most recent call last)",
      "\u001b[1;32m<ipython-input-1-a6a8a8c50edf>\u001b[0m in \u001b[0;36m<module>\u001b[1;34m\u001b[0m\n\u001b[0;32m      6\u001b[0m     \u001b[0minifunc\u001b[0m\u001b[1;33m(\u001b[0m\u001b[1;33m)\u001b[0m\u001b[1;33m\u001b[0m\u001b[1;33m\u001b[0m\u001b[0m\n\u001b[0;32m      7\u001b[0m     \u001b[0mprint\u001b[0m\u001b[1;33m(\u001b[0m\u001b[0minerVar\u001b[0m\u001b[1;33m)\u001b[0m\u001b[1;33m\u001b[0m\u001b[1;33m\u001b[0m\u001b[0m\n\u001b[1;32m----> 8\u001b[1;33m \u001b[0mnestedFun\u001b[0m\u001b[1;33m(\u001b[0m\u001b[1;33m)\u001b[0m\u001b[1;33m\u001b[0m\u001b[1;33m\u001b[0m\u001b[0m\n\u001b[0m",
      "\u001b[1;32m<ipython-input-1-a6a8a8c50edf>\u001b[0m in \u001b[0;36mnestedFun\u001b[1;34m()\u001b[0m\n\u001b[0;32m      5\u001b[0m         \u001b[0mprint\u001b[0m\u001b[1;33m(\u001b[0m\u001b[0mouterVar\u001b[0m\u001b[1;33m)\u001b[0m\u001b[1;33m\u001b[0m\u001b[1;33m\u001b[0m\u001b[0m\n\u001b[0;32m      6\u001b[0m     \u001b[0minifunc\u001b[0m\u001b[1;33m(\u001b[0m\u001b[1;33m)\u001b[0m\u001b[1;33m\u001b[0m\u001b[1;33m\u001b[0m\u001b[0m\n\u001b[1;32m----> 7\u001b[1;33m     \u001b[0mprint\u001b[0m\u001b[1;33m(\u001b[0m\u001b[0minerVar\u001b[0m\u001b[1;33m)\u001b[0m\u001b[1;33m\u001b[0m\u001b[1;33m\u001b[0m\u001b[0m\n\u001b[0m\u001b[0;32m      8\u001b[0m \u001b[0mnestedFun\u001b[0m\u001b[1;33m(\u001b[0m\u001b[1;33m)\u001b[0m\u001b[1;33m\u001b[0m\u001b[1;33m\u001b[0m\u001b[0m\n",
      "\u001b[1;31mNameError\u001b[0m: name 'inerVar' is not defined"
     ]
    }
   ],
   "source": [
    "def nestedFun():\n",
    "    outerVar = \"my outer var\"\n",
    "    def inifunc():\n",
    "        inerVar = \"inner var\"\n",
    "        print(outerVar)\n",
    "    inifunc()\n",
    "    print(inerVar)\n",
    "nestedFun()"
   ]
  },
  {
   "cell_type": "code",
   "execution_count": 1,
   "id": "f525e9b3",
   "metadata": {},
   "outputs": [],
   "source": [
    "import calculator"
   ]
  },
  {
   "cell_type": "code",
   "execution_count": 3,
   "id": "cb135a45",
   "metadata": {},
   "outputs": [
    {
     "name": "stdout",
     "output_type": "stream",
     "text": [
      "15\n"
     ]
    }
   ],
   "source": [
    "print(calculator.add(10,5))"
   ]
  },
  {
   "cell_type": "code",
   "execution_count": 4,
   "id": "cfdec7c8",
   "metadata": {},
   "outputs": [
    {
     "name": "stdout",
     "output_type": "stream",
     "text": [
      "50\n"
     ]
    }
   ],
   "source": [
    "print(calculator.multiply(10,5))"
   ]
  },
  {
   "cell_type": "code",
   "execution_count": 5,
   "id": "1a496ef8",
   "metadata": {},
   "outputs": [
    {
     "name": "stdout",
     "output_type": "stream",
     "text": [
      "50\n"
     ]
    }
   ],
   "source": [
    "from calculator import multiply\n",
    "print(multiply(10,5))"
   ]
  },
  {
   "cell_type": "code",
   "execution_count": 6,
   "id": "97e52403",
   "metadata": {},
   "outputs": [],
   "source": [
    "import calculator as cal"
   ]
  },
  {
   "cell_type": "code",
   "execution_count": 7,
   "id": "fd37eec6",
   "metadata": {},
   "outputs": [
    {
     "name": "stdout",
     "output_type": "stream",
     "text": [
      "5.0\n"
     ]
    }
   ],
   "source": [
    "print(cal.devide(10,2))"
   ]
  },
  {
   "cell_type": "code",
   "execution_count": 8,
   "id": "084adf64",
   "metadata": {},
   "outputs": [],
   "source": [
    "from calculator import multiply as mul"
   ]
  },
  {
   "cell_type": "code",
   "execution_count": 10,
   "id": "7cf3642b",
   "metadata": {},
   "outputs": [
    {
     "data": {
      "text/plain": [
       "90"
      ]
     },
     "execution_count": 10,
     "metadata": {},
     "output_type": "execute_result"
    }
   ],
   "source": [
    "mul(10,9)"
   ]
  },
  {
   "cell_type": "code",
   "execution_count": 10,
   "id": "d0a50925",
   "metadata": {},
   "outputs": [
    {
     "name": "stdout",
     "output_type": "stream",
     "text": [
      "values inside the function: [10, 20, 30, [1, 2, 3, 4]]\n",
      "Values outside the function:  [10, 20, 30, [1, 2, 3, 4]]\n"
     ]
    }
   ],
   "source": [
    "#Function definition\n",
    "def changeme(myList):\n",
    "    myList.append([1,2,3,4])\n",
    "    print(\"values inside the function:\", myList)\n",
    "    return\n",
    "#call changeme function\n",
    "myList = [10,20,30]\n",
    "changeme(myList)\n",
    "print(\"Values outside the function: \", myList)\n"
   ]
  },
  {
   "cell_type": "code",
   "execution_count": 19,
   "id": "8b93092d",
   "metadata": {},
   "outputs": [
    {
     "ename": "SyntaxError",
     "evalue": "unexpected EOF while parsing (<ipython-input-19-fdd3aa71faeb>, line 7)",
     "output_type": "error",
     "traceback": [
      "\u001b[1;36m  File \u001b[1;32m\"<ipython-input-19-fdd3aa71faeb>\"\u001b[1;36m, line \u001b[1;32m7\u001b[0m\n\u001b[1;33m    print(sum(total(10,20))\u001b[0m\n\u001b[1;37m                           ^\u001b[0m\n\u001b[1;31mSyntaxError\u001b[0m\u001b[1;31m:\u001b[0m unexpected EOF while parsing\n"
     ]
    }
   ],
   "source": []
  },
  {
   "cell_type": "code",
   "execution_count": null,
   "id": "59a02779",
   "metadata": {},
   "outputs": [],
   "source": []
  }
 ],
 "metadata": {
  "kernelspec": {
   "display_name": "Python 3",
   "language": "python",
   "name": "python3"
  },
  "language_info": {
   "codemirror_mode": {
    "name": "ipython",
    "version": 3
   },
   "file_extension": ".py",
   "mimetype": "text/x-python",
   "name": "python",
   "nbconvert_exporter": "python",
   "pygments_lexer": "ipython3",
   "version": "3.8.8"
  },
  "toc": {
   "base_numbering": 1,
   "nav_menu": {},
   "number_sections": true,
   "sideBar": true,
   "skip_h1_title": false,
   "title_cell": "Table of Contents",
   "title_sidebar": "Contents",
   "toc_cell": false,
   "toc_position": {},
   "toc_section_display": true,
   "toc_window_display": false
  }
 },
 "nbformat": 4,
 "nbformat_minor": 5
}
