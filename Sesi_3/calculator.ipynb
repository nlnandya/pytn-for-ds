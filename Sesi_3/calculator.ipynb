{
 "cells": [
  {
   "cell_type": "code",
   "execution_count": 1,
   "id": "819fd3b7",
   "metadata": {},
   "outputs": [],
   "source": [
    "def add(*args):\n",
    "    res = 0\n",
    "    for arg in args:\n",
    "        res += arg\n",
    "    return res\n",
    "\n",
    "def multiply(*args):\n",
    "    res = 1\n",
    "    for arg in args:\n",
    "        res = res * arg\n",
    "    return res\n",
    "\n",
    "def devide(*args):\n",
    "    [res, *sisa] = args\n",
    "    for arg in sisa:\n",
    "        res = res / arg\n",
    "    return res"
   ]
  },
  {
   "cell_type": "code",
   "execution_count": null,
   "id": "d7611c37",
   "metadata": {},
   "outputs": [],
   "source": []
  }
 ],
 "metadata": {
  "kernelspec": {
   "display_name": "Python 3",
   "language": "python",
   "name": "python3"
  },
  "language_info": {
   "codemirror_mode": {
    "name": "ipython",
    "version": 3
   },
   "file_extension": ".py",
   "mimetype": "text/x-python",
   "name": "python",
   "nbconvert_exporter": "python",
   "pygments_lexer": "ipython3",
   "version": "3.8.8"
  },
  "toc": {
   "base_numbering": 1,
   "nav_menu": {},
   "number_sections": true,
   "sideBar": true,
   "skip_h1_title": false,
   "title_cell": "Table of Contents",
   "title_sidebar": "Contents",
   "toc_cell": false,
   "toc_position": {},
   "toc_section_display": true,
   "toc_window_display": false
  }
 },
 "nbformat": 4,
 "nbformat_minor": 5
}
