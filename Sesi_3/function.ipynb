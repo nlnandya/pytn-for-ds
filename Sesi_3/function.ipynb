{
 "cells": [
  {
   "cell_type": "code",
   "execution_count": 1,
   "id": "4d0ca554",
   "metadata": {},
   "outputs": [
    {
     "data": {
      "text/plain": [
       "'*\\n**\\n***\\n****\\n*****\\n******\\n*******\\n'"
      ]
     },
     "execution_count": 1,
     "metadata": {},
     "output_type": "execute_result"
    }
   ],
   "source": [
    "def starStair(step):\n",
    "    row = step\n",
    "    i = 0\n",
    "    disp = \"\"\n",
    "    while i < row:\n",
    "        col = i + 1\n",
    "        j = 0\n",
    "        while j < col:\n",
    "            disp += \"*\"\n",
    "            j += 1\n",
    "        disp += \"\\n\"\n",
    "        i+=1\n",
    "    return disp\n",
    "\n",
    "starStair(7)"
   ]
  },
  {
   "cell_type": "code",
   "execution_count": 2,
   "id": "c6c3f4ac",
   "metadata": {},
   "outputs": [
    {
     "name": "stdout",
     "output_type": "stream",
     "text": [
      "*\n",
      "**\n",
      "***\n",
      "****\n",
      "*****\n",
      "******\n",
      "*******\n",
      "\n"
     ]
    }
   ],
   "source": [
    "print(starStair(7))"
   ]
  },
  {
   "cell_type": "code",
   "execution_count": 3,
   "id": "bcb6a51b",
   "metadata": {},
   "outputs": [],
   "source": [
    "def starStairPrint(step):\n",
    "    row = step\n",
    "    i = 0\n",
    "    disp = \"\"\n",
    "    while i < row:\n",
    "        col = i + 1\n",
    "        j = 0\n",
    "        while j < col:\n",
    "            disp += \"*\"\n",
    "            j += 1\n",
    "        disp += \"\\n\"\n",
    "        i+=1\n",
    "    print(disp)"
   ]
  },
  {
   "cell_type": "code",
   "execution_count": 4,
   "id": "83c1e017",
   "metadata": {},
   "outputs": [
    {
     "name": "stdout",
     "output_type": "stream",
     "text": [
      "*\n",
      "**\n",
      "***\n",
      "****\n",
      "*****\n",
      "******\n",
      "*******\n",
      "\n",
      "None\n",
      "*\n",
      "**\n",
      "***\n",
      "****\n",
      "*****\n",
      "******\n",
      "*******\n",
      "\n"
     ]
    }
   ],
   "source": [
    "print(starStairPrint(7))\n",
    "print(starStair(7))"
   ]
  },
  {
   "cell_type": "code",
   "execution_count": 5,
   "id": "c99537f4",
   "metadata": {},
   "outputs": [],
   "source": [
    "def quadradNoReturn(num):\n",
    "    hasil = num * num\n",
    "def quadradReturn(num):\n",
    "    hasil = num * num\n",
    "    return hasil"
   ]
  },
  {
   "cell_type": "code",
   "execution_count": 6,
   "id": "dc2ab6a4",
   "metadata": {},
   "outputs": [
    {
     "name": "stdout",
     "output_type": "stream",
     "text": [
      "35\n"
     ]
    }
   ],
   "source": [
    "# f(x) = 10 * x^2\n",
    "hasil = 10 + quadradReturn(5)\n",
    "print(hasil)"
   ]
  },
  {
   "cell_type": "code",
   "execution_count": null,
   "id": "a206a21f",
   "metadata": {},
   "outputs": [],
   "source": [
    "hasil = 10 + quadradNoReturn(5)\n",
    "print(hasil)"
   ]
  },
  {
   "cell_type": "code",
   "execution_count": null,
   "id": "11470d36",
   "metadata": {},
   "outputs": [],
   "source": [
    "# f(x) = 10 * x^2\n",
    "\n",
    "de"
   ]
  },
  {
   "cell_type": "code",
   "execution_count": null,
   "id": "9c24ed7d",
   "metadata": {},
   "outputs": [],
   "source": [
    "myage= 0\n",
    "adultTreshold = 18\n",
    "\n",
    "myage = input(\"please input number\")\n",
    "myage = int(myage)\n",
    "\n",
    "if myage >= adultTreshold:\n",
    "    print(\"you are adult\")\n",
    "    print(\"lets drink\")\n",
    "else:\n",
    "    yearsToaduld = adultTreshold - myage\n",
    "    print(\"you are under age lets wait {} more years \".format(yearsToaduld))\n",
    "\n",
    "print(\"di luar scoupe if\")"
   ]
  },
  {
   "cell_type": "code",
   "execution_count": 7,
   "id": "b93b23d2",
   "metadata": {},
   "outputs": [
    {
     "ename": "SyntaxError",
     "evalue": "'return' outside function (<ipython-input-7-ab83b78d8de6>, line 14)",
     "output_type": "error",
     "traceback": [
      "\u001b[1;36m  File \u001b[1;32m\"<ipython-input-7-ab83b78d8de6>\"\u001b[1;36m, line \u001b[1;32m14\u001b[0m\n\u001b[1;33m    return ageOfPerson(21)\u001b[0m\n\u001b[1;37m    ^\u001b[0m\n\u001b[1;31mSyntaxError\u001b[0m\u001b[1;31m:\u001b[0m 'return' outside function\n"
     ]
    }
   ],
   "source": [
    "myAge = 0\n",
    "adultTreshold = 18\n",
    "desc1 = \"You are adult\\nlets drink\"\n",
    "desc2 = \"You are under age lets wait {} more years \"\n",
    "\n",
    "def ageOfPerson(myAge):\n",
    "    myAge = input(\"Please input number: \")\n",
    "    if myAge >= adultTreshold:\n",
    "        print (desc1)\n",
    "        return ageOfPerson(21)\n",
    "    else:\n",
    "        yearsToAdult = adultTreshold - myAge\n",
    "        print (desc2)\n",
    "\n"
   ]
  },
  {
   "cell_type": "code",
   "execution_count": 13,
   "id": "8ece65bc",
   "metadata": {},
   "outputs": [
    {
     "name": "stdout",
     "output_type": "stream",
     "text": [
      "please input number9\n"
     ]
    },
    {
     "data": {
      "text/plain": [
       "'you are under age lets wait 9 mpre years'"
      ]
     },
     "execution_count": 13,
     "metadata": {},
     "output_type": "execute_result"
    }
   ],
   "source": [
    "def canIdrink(age):\n",
    "    if not age.isnumeric():\n",
    "        return\n",
    "    myage = int(age)\n",
    "    if myage >= adultTreshold:\n",
    "        return \"you are adult \\n lets drink\"\n",
    "    else:\n",
    "        yearsToaduld = adultTreshold - myage\n",
    "        return \"you are under age lets wait {} mpre years\".format(yearsToaduld)\n",
    "\n",
    "myage = 0\n",
    "adultTreshold = 18\n",
    "\n",
    "myage = input(\"please input number\")\n",
    "canIdrink(myage)"
   ]
  },
  {
   "cell_type": "code",
   "execution_count": 12,
   "id": "390251e7",
   "metadata": {},
   "outputs": [
    {
     "data": {
      "text/plain": [
       "<function str.isnumeric()>"
      ]
     },
     "execution_count": 12,
     "metadata": {},
     "output_type": "execute_result"
    }
   ],
   "source": [
    "a=\"asa\"\n",
    "a.isnumeric"
   ]
  },
  {
   "cell_type": "code",
   "execution_count": 14,
   "id": "76388795",
   "metadata": {},
   "outputs": [],
   "source": [
    "def printHello(nama, hobby):\n",
    "    print(\"hello nama saya\", nama)\n",
    "    print(\"Hobby saya\", hobby)"
   ]
  },
  {
   "cell_type": "code",
   "execution_count": 15,
   "id": "d35868f4",
   "metadata": {},
   "outputs": [
    {
     "name": "stdout",
     "output_type": "stream",
     "text": [
      "hello nama saya ego\n",
      "Hobby saya coding\n"
     ]
    }
   ],
   "source": [
    "printHello(\"ego\", \"coding\")"
   ]
  },
  {
   "cell_type": "code",
   "execution_count": 16,
   "id": "09c2be34",
   "metadata": {},
   "outputs": [
    {
     "name": "stdout",
     "output_type": "stream",
     "text": [
      "hello nama saya coding\n",
      "Hobby saya ego\n"
     ]
    }
   ],
   "source": [
    "printHello(hobby = \"ego\", nama = \"coding\")"
   ]
  },
  {
   "cell_type": "code",
   "execution_count": 23,
   "id": "f1b82809",
   "metadata": {},
   "outputs": [],
   "source": [
    "def tambah(a, b, *res):\n",
    "    hasil = a + b\n",
    "    for i in res:\n",
    "        hasil += 1\n",
    "    return hasil"
   ]
  },
  {
   "cell_type": "code",
   "execution_count": 34,
   "id": "a07204b3",
   "metadata": {},
   "outputs": [
    {
     "name": "stdout",
     "output_type": "stream",
     "text": [
      "global var\n"
     ]
    },
    {
     "data": {
      "text/plain": [
       "5"
      ]
     },
     "execution_count": 34,
     "metadata": {},
     "output_type": "execute_result"
    }
   ],
   "source": [
    "tambah(1,3,4)"
   ]
  },
  {
   "cell_type": "code",
   "execution_count": 25,
   "id": "12018b82",
   "metadata": {},
   "outputs": [
    {
     "data": {
      "text/plain": [
       "10"
      ]
     },
     "execution_count": 25,
     "metadata": {},
     "output_type": "execute_result"
    }
   ],
   "source": [
    "tambah(1,3,4,6,7,8,9,10)"
   ]
  },
  {
   "cell_type": "code",
   "execution_count": 27,
   "id": "04950508",
   "metadata": {},
   "outputs": [
    {
     "name": "stdout",
     "output_type": "stream",
     "text": [
      "35\n"
     ]
    }
   ],
   "source": [
    "def tambah(a, b, *res):\n",
    "    hasil = a + b\n",
    "    for i in res:\n",
    "        hasil += 1\n",
    "    return hasil\n",
    "\n",
    "print(hasil)"
   ]
  },
  {
   "cell_type": "code",
   "execution_count": 29,
   "id": "da33c686",
   "metadata": {},
   "outputs": [
    {
     "name": "stdout",
     "output_type": "stream",
     "text": [
      "global var\n"
     ]
    },
    {
     "data": {
      "text/plain": [
       "15"
      ]
     },
     "execution_count": 29,
     "metadata": {},
     "output_type": "execute_result"
    }
   ],
   "source": [
    "globalVar = \"global var\"\n",
    "\n",
    "def tambah(a, b, *res):\n",
    "    print(globalVar)\n",
    "    hasil = a + b\n",
    "    for i in res:\n",
    "        hasil += 1\n",
    "    return hasil\n",
    "\n",
    "#print(hasil)\n",
    "tambah(7, 8)"
   ]
  },
  {
   "cell_type": "code",
   "execution_count": 32,
   "id": "91374afc",
   "metadata": {
    "scrolled": true
   },
   "outputs": [
    {
     "name": "stdout",
     "output_type": "stream",
     "text": [
      "my outer var\n"
     ]
    },
    {
     "ename": "NameError",
     "evalue": "name 'inerVar' is not defined",
     "output_type": "error",
     "traceback": [
      "\u001b[1;31m---------------------------------------------------------------------------\u001b[0m",
      "\u001b[1;31mNameError\u001b[0m                                 Traceback (most recent call last)",
      "\u001b[1;32m<ipython-input-32-a6a8a8c50edf>\u001b[0m in \u001b[0;36m<module>\u001b[1;34m\u001b[0m\n\u001b[0;32m      6\u001b[0m     \u001b[0minifunc\u001b[0m\u001b[1;33m(\u001b[0m\u001b[1;33m)\u001b[0m\u001b[1;33m\u001b[0m\u001b[1;33m\u001b[0m\u001b[0m\n\u001b[0;32m      7\u001b[0m     \u001b[0mprint\u001b[0m\u001b[1;33m(\u001b[0m\u001b[0minerVar\u001b[0m\u001b[1;33m)\u001b[0m\u001b[1;33m\u001b[0m\u001b[1;33m\u001b[0m\u001b[0m\n\u001b[1;32m----> 8\u001b[1;33m \u001b[0mnestedFun\u001b[0m\u001b[1;33m(\u001b[0m\u001b[1;33m)\u001b[0m\u001b[1;33m\u001b[0m\u001b[1;33m\u001b[0m\u001b[0m\n\u001b[0m",
      "\u001b[1;32m<ipython-input-32-a6a8a8c50edf>\u001b[0m in \u001b[0;36mnestedFun\u001b[1;34m()\u001b[0m\n\u001b[0;32m      5\u001b[0m         \u001b[0mprint\u001b[0m\u001b[1;33m(\u001b[0m\u001b[0mouterVar\u001b[0m\u001b[1;33m)\u001b[0m\u001b[1;33m\u001b[0m\u001b[1;33m\u001b[0m\u001b[0m\n\u001b[0;32m      6\u001b[0m     \u001b[0minifunc\u001b[0m\u001b[1;33m(\u001b[0m\u001b[1;33m)\u001b[0m\u001b[1;33m\u001b[0m\u001b[1;33m\u001b[0m\u001b[0m\n\u001b[1;32m----> 7\u001b[1;33m     \u001b[0mprint\u001b[0m\u001b[1;33m(\u001b[0m\u001b[0minerVar\u001b[0m\u001b[1;33m)\u001b[0m\u001b[1;33m\u001b[0m\u001b[1;33m\u001b[0m\u001b[0m\n\u001b[0m\u001b[0;32m      8\u001b[0m \u001b[0mnestedFun\u001b[0m\u001b[1;33m(\u001b[0m\u001b[1;33m)\u001b[0m\u001b[1;33m\u001b[0m\u001b[1;33m\u001b[0m\u001b[0m\n",
      "\u001b[1;31mNameError\u001b[0m: name 'inerVar' is not defined"
     ]
    }
   ],
   "source": [
    "def nestedFun():\n",
    "    outerVar = \"my outer var\"\n",
    "    def inifunc():\n",
    "        inerVar = \"inner var\"\n",
    "        print(outerVar)\n",
    "    inifunc()\n",
    "    print(inerVar)\n",
    "nestedFun()"
   ]
  },
  {
   "cell_type": "code",
   "execution_count": 33,
   "id": "d29c6b78",
   "metadata": {},
   "outputs": [],
   "source": [
    "#BUAT FUNCTION PENAMBAHAN PERKALIAN PAKAI *RES\n"
   ]
  },
  {
   "cell_type": "code",
   "execution_count": null,
   "id": "86d4a42c",
   "metadata": {},
   "outputs": [],
   "source": [
    "# f(x,y,z) = 10x + y^2 + z*5"
   ]
  },
  {
   "cell_type": "code",
   "execution_count": null,
   "id": "83ccf982",
   "metadata": {},
   "outputs": [],
   "source": []
  },
  {
   "cell_type": "code",
   "execution_count": null,
   "id": "1ca72cda",
   "metadata": {},
   "outputs": [],
   "source": []
  }
 ],
 "metadata": {
  "kernelspec": {
   "display_name": "Python 3",
   "language": "python",
   "name": "python3"
  },
  "language_info": {
   "codemirror_mode": {
    "name": "ipython",
    "version": 3
   },
   "file_extension": ".py",
   "mimetype": "text/x-python",
   "name": "python",
   "nbconvert_exporter": "python",
   "pygments_lexer": "ipython3",
   "version": "3.8.8"
  },
  "toc": {
   "base_numbering": 1,
   "nav_menu": {},
   "number_sections": true,
   "sideBar": true,
   "skip_h1_title": false,
   "title_cell": "Table of Contents",
   "title_sidebar": "Contents",
   "toc_cell": false,
   "toc_position": {},
   "toc_section_display": true,
   "toc_window_display": false
  }
 },
 "nbformat": 4,
 "nbformat_minor": 5
}
