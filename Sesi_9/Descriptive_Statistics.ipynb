{
 "cells": [
  {
   "cell_type": "markdown",
   "id": "875f62e4",
   "metadata": {},
   "source": [
    "# Descriptive Statistics\n",
    "meringkas, mengatur, mudah dipahami, tidak membuat kesimpulan\n",
    "\n",
    "# yang diukur\n",
    "* Central Tendency (nilai tengah)\n",
    "    - average/mean\n",
    "    - median\n",
    "    - stdv\n",
    "    - mode\n",
    "* spread (sebaran)\n",
    "    - stdv\n",
    "    - mean deviasion\n",
    "    - variant\n",
    "    - percentil\n",
    "    - quadratil\n",
    "    \n",
    "# Bentuk kurva\n",
    "* berdasarkan nilai tengah\n",
    "    - positif skew\n",
    "    - simetrical skew\n",
    "    - negative skew\n",
    "* berdasarkan sebaran (kurtosis)\n",
    "    - leprokurtic\n",
    "    - mesokurtic\n",
    "    - platykurtic\n",
    "    \n",
    "# korelasi\n",
    "* no correlation\n",
    "* negatif corelation\n",
    "* positif corelation  "
   ]
  },
  {
   "cell_type": "code",
   "execution_count": 50,
   "id": "65b938a3",
   "metadata": {},
   "outputs": [],
   "source": [
    "import math\n",
    "import statistics\n",
    "import numpy as np\n",
    "import scipy.stats\n",
    "import pandas as pd"
   ]
  },
  {
   "cell_type": "code",
   "execution_count": 51,
   "id": "d8b0bcff",
   "metadata": {},
   "outputs": [
    {
     "name": "stdout",
     "output_type": "stream",
     "text": [
      "[8.0, 1, 2, 1.5, 8, 17]\n",
      "[8.0, 1, 2, nan, 1.5, 8, 17]\n"
     ]
    }
   ],
   "source": [
    "x = [8.0, 1,2,1.5,8, 17]\n",
    "x_with_nan = [8.0, 1,2, math.nan,1.5,8, 17]\n",
    "\n",
    "\n",
    "print(x)\n",
    "print(x_with_nan)"
   ]
  },
  {
   "cell_type": "code",
   "execution_count": 52,
   "id": "9d03dd6b",
   "metadata": {},
   "outputs": [
    {
     "name": "stdout",
     "output_type": "stream",
     "text": [
      "[ 8.   1.   2.   nan  1.5  8.  17. ]\n",
      "0     8.0\n",
      "1     1.0\n",
      "2     2.0\n",
      "3     NaN\n",
      "4     1.5\n",
      "5     8.0\n",
      "6    17.0\n",
      "dtype: float64\n"
     ]
    }
   ],
   "source": [
    "y, y_with_nan = np.array(x), np.array(x_with_nan)\n",
    "z, z_with_nan = pd.Series(x), pd.Series(x_with_nan)\n",
    "\n",
    "print(y_with_nan)\n",
    "print(z_with_nan)"
   ]
  },
  {
   "cell_type": "code",
   "execution_count": 53,
   "id": "58599319",
   "metadata": {},
   "outputs": [
    {
     "data": {
      "text/plain": [
       "0     8.0\n",
       "1     1.0\n",
       "2     2.0\n",
       "3     1.5\n",
       "4     8.0\n",
       "5    17.0\n",
       "dtype: float64"
      ]
     },
     "execution_count": 53,
     "metadata": {},
     "output_type": "execute_result"
    }
   ],
   "source": [
    "z"
   ]
  },
  {
   "cell_type": "code",
   "execution_count": 54,
   "id": "eb5a9339",
   "metadata": {},
   "outputs": [
    {
     "data": {
      "text/plain": [
       "6.25"
      ]
     },
     "execution_count": 54,
     "metadata": {},
     "output_type": "execute_result"
    }
   ],
   "source": [
    "#mean\n",
    "\n",
    "mean = sum(y)/len(y)\n",
    "mean"
   ]
  },
  {
   "cell_type": "code",
   "execution_count": null,
   "id": "73074b16",
   "metadata": {},
   "outputs": [],
   "source": []
  },
  {
   "cell_type": "code",
   "execution_count": 55,
   "id": "d12945bb",
   "metadata": {},
   "outputs": [
    {
     "data": {
      "text/plain": [
       "5.0"
      ]
     },
     "execution_count": 55,
     "metadata": {},
     "output_type": "execute_result"
    }
   ],
   "source": [
    "#median\n",
    "\n",
    "n = len(x)\n",
    "if n % 2:\n",
    "    median = sorted(x)[round(0.5*(n-1))]\n",
    "else:\n",
    "    x, idx = sorted(x), round(0.5 * n)\n",
    "    median = 0.5 * (x[idx-1] + x[idx])\n",
    "median"
   ]
  },
  {
   "cell_type": "code",
   "execution_count": 56,
   "id": "0c4dfd92",
   "metadata": {},
   "outputs": [
    {
     "data": {
      "text/plain": [
       "8.0"
      ]
     },
     "execution_count": 56,
     "metadata": {},
     "output_type": "execute_result"
    }
   ],
   "source": [
    "#modus\n",
    "\n",
    "mode = statistics.mode(y)\n",
    "mode"
   ]
  },
  {
   "cell_type": "code",
   "execution_count": 57,
   "id": "8643504c",
   "metadata": {},
   "outputs": [],
   "source": [
    "median = statistics.median(y)"
   ]
  },
  {
   "cell_type": "code",
   "execution_count": 58,
   "id": "853c72e1",
   "metadata": {},
   "outputs": [
    {
     "data": {
      "text/plain": [
       "5.0"
      ]
     },
     "execution_count": 58,
     "metadata": {},
     "output_type": "execute_result"
    }
   ],
   "source": [
    "median"
   ]
  },
  {
   "cell_type": "code",
   "execution_count": 59,
   "id": "adeadb57",
   "metadata": {},
   "outputs": [
    {
     "name": "stdout",
     "output_type": "stream",
     "text": [
      "6.25\n",
      "6.25\n",
      "nan\n"
     ]
    }
   ],
   "source": [
    "# central tendency\n",
    "print(z.mean())\n",
    "print(z_with_nan.mean())\n",
    "print(np.mean(y_with_nan))"
   ]
  },
  {
   "cell_type": "code",
   "execution_count": 64,
   "id": "16cde0df",
   "metadata": {},
   "outputs": [],
   "source": [
    "# Weighted mean, digunakan untuk data-data kasih sample supaya mempeng\n",
    "w = [0.7, 0.8, 0,1, 0.2, 0.3, 0.7]\n"
   ]
  },
  {
   "cell_type": "code",
   "execution_count": 65,
   "id": "3f5dd48d",
   "metadata": {},
   "outputs": [
    {
     "data": {
      "text/plain": [
       "4.486486486486487"
      ]
     },
     "execution_count": 65,
     "metadata": {},
     "output_type": "execute_result"
    }
   ],
   "source": [
    "wmean = sum(w[i] * x[i] for i in range(len(x))) / sum(w)\n",
    "wmean"
   ]
  },
  {
   "cell_type": "code",
   "execution_count": null,
   "id": "91f1fd1d",
   "metadata": {},
   "outputs": [],
   "source": [
    "wmeannp = np.average(y, weights = w)\n",
    "wmeannp"
   ]
  },
  {
   "cell_type": "code",
   "execution_count": 70,
   "id": "9089cee8",
   "metadata": {},
   "outputs": [],
   "source": [
    "\n",
    "x = [8.0, 1,2,1.5,8, 17]\n"
   ]
  },
  {
   "cell_type": "code",
   "execution_count": 72,
   "id": "abe9610c",
   "metadata": {},
   "outputs": [
    {
     "data": {
      "text/plain": [
       "2.423762376237624"
      ]
     },
     "execution_count": 72,
     "metadata": {},
     "output_type": "execute_result"
    }
   ],
   "source": [
    "#harmonic mean\n",
    "#seorang bapak jalan kaki 5 km pertama dengan kecepatan 2 km/jam\n",
    "#dan 5 km kemudian dengan kecepatan 4km/jam\n",
    "\n",
    "#n/sigma(1/n)\n",
    "\n",
    "2/(1/2 + 1/4)\n",
    "harmonicmean = len(x)/sum(1/i for i in x)\n",
    "harmonicmean"
   ]
  },
  {
   "cell_type": "code",
   "execution_count": 74,
   "id": "7ee346af",
   "metadata": {},
   "outputs": [
    {
     "data": {
      "text/plain": [
       "2.4237623762376237"
      ]
     },
     "execution_count": 74,
     "metadata": {},
     "output_type": "execute_result"
    }
   ],
   "source": [
    "harmonicmean_stat = statistics.harmonic_mean(x)\n",
    "harmonicmean_stat"
   ]
  },
  {
   "cell_type": "code",
   "execution_count": 75,
   "id": "5680656c",
   "metadata": {},
   "outputs": [
    {
     "data": {
      "text/plain": [
       "2.423762376237624"
      ]
     },
     "execution_count": 75,
     "metadata": {},
     "output_type": "execute_result"
    }
   ],
   "source": [
    "harmonicmean_scipy = scipy.stats.hmean(x)\n",
    "harmonicmean_scipy"
   ]
  },
  {
   "cell_type": "code",
   "execution_count": 80,
   "id": "9a216b43",
   "metadata": {},
   "outputs": [
    {
     "name": "stdout",
     "output_type": "stream",
     "text": [
      "0.5916079783099616 0.5773502691896257\n"
     ]
    }
   ],
   "source": [
    "# Geometric mean\n",
    "# laptop 1 harga 20jt lama pakai 7 tahun\n",
    "# laptop 2 harga 12jt lama pakai 4 tahun\n",
    "#laptop 1 geometrik meannya\n",
    "geoMeanLaptop1 = math.sqrt(1/20 * 7)\n",
    "geoMeanLaptop2 = math.sqrt(1/12 * 4)\n",
    "print(geoMeanLaptop1, geoMeanLaptop2)"
   ]
  },
  {
   "cell_type": "code",
   "execution_count": 105,
   "id": "eb5aaf11",
   "metadata": {},
   "outputs": [
    {
     "data": {
      "text/plain": [
       "[0.1, 0.2, 0.3, 0.7, 0.7, 0.8, 0.9]"
      ]
     },
     "execution_count": 105,
     "metadata": {},
     "output_type": "execute_result"
    }
   ],
   "source": [
    "# median nilai tengah\n",
    "medianData = [0.7, 0.8, 0.1, 0.2, 0.3, 0.7, 0.9]\n",
    "medianData.sort()\n",
    "medianData"
   ]
  },
  {
   "cell_type": "code",
   "execution_count": 103,
   "id": "6362e41a",
   "metadata": {},
   "outputs": [
    {
     "data": {
      "text/plain": [
       "0.7"
      ]
     },
     "execution_count": 103,
     "metadata": {},
     "output_type": "execute_result"
    }
   ],
   "source": [
    "medianstat = statistics.median_high(medianData)\n",
    "medianstat"
   ]
  },
  {
   "cell_type": "code",
   "execution_count": 104,
   "id": "eb021656",
   "metadata": {},
   "outputs": [
    {
     "data": {
      "text/plain": [
       "0.7"
      ]
     },
     "execution_count": 104,
     "metadata": {},
     "output_type": "execute_result"
    }
   ],
   "source": [
    "medianstat = statistics.median_low(medianData)\n",
    "medianstat"
   ]
  },
  {
   "cell_type": "code",
   "execution_count": 115,
   "id": "b292bcbc",
   "metadata": {},
   "outputs": [
    {
     "data": {
      "text/plain": [
       "1"
      ]
     },
     "execution_count": 115,
     "metadata": {},
     "output_type": "execute_result"
    }
   ],
   "source": [
    "# modus\n",
    "modusData = [1,1,1,3,4,5,6,7,8,9,1]\n",
    "modus = max(((modusData.count(item), item) for item in set(modusData)))[1]\n",
    "modus"
   ]
  },
  {
   "cell_type": "code",
   "execution_count": 116,
   "id": "90a39cca",
   "metadata": {},
   "outputs": [
    {
     "data": {
      "text/plain": [
       "1"
      ]
     },
     "execution_count": 116,
     "metadata": {},
     "output_type": "execute_result"
    }
   ],
   "source": [
    "modusStat = statistics.mode(modusData)\n",
    "modusStat"
   ]
  },
  {
   "cell_type": "code",
   "execution_count": 125,
   "id": "c523aef0",
   "metadata": {},
   "outputs": [
    {
     "name": "stdout",
     "output_type": "stream",
     "text": [
      "9.163636363636362 9.163636363636364\n"
     ]
    }
   ],
   "source": [
    "# variability\n",
    "variancestate = statistics.variance(modusData)\n",
    "mean_ = sum(modusData)/len(modusData)\n",
    "variance = sum((item - mean_)**2 for item in modusData)/(len(modusData) -1)\n",
    "print(variance, variancestate)"
   ]
  },
  {
   "cell_type": "code",
   "execution_count": 126,
   "id": "49f043b8",
   "metadata": {},
   "outputs": [
    {
     "name": "stdout",
     "output_type": "stream",
     "text": [
      "3.027149874657078 3.027149874657078\n"
     ]
    }
   ],
   "source": [
    "stdv = math.sqrt(variance)\n",
    "stdvState = statistics.stdev(modusData)\n",
    "print(stdv, stdvState)"
   ]
  },
  {
   "cell_type": "code",
   "execution_count": 132,
   "id": "4190d44a",
   "metadata": {},
   "outputs": [
    {
     "data": {
      "text/plain": [
       "0.24935156205469858"
      ]
     },
     "execution_count": 132,
     "metadata": {},
     "output_type": "execute_result"
    }
   ],
   "source": [
    "# skewnes\n",
    "\n",
    "skwnes = scipy.stats.skew(modusData)\n",
    "skwnes"
   ]
  },
  {
   "cell_type": "code",
   "execution_count": 148,
   "id": "8cfbee59",
   "metadata": {},
   "outputs": [],
   "source": [
    "# percentile\n",
    "fivepercentile = np.percentile(modusData, 100)"
   ]
  },
  {
   "cell_type": "code",
   "execution_count": 149,
   "id": "da40f0d5",
   "metadata": {},
   "outputs": [
    {
     "data": {
      "text/plain": [
       "9.0"
      ]
     },
     "execution_count": 149,
     "metadata": {},
     "output_type": "execute_result"
    }
   ],
   "source": [
    "fivepercentile"
   ]
  },
  {
   "cell_type": "code",
   "execution_count": 151,
   "id": "3ad22eb3",
   "metadata": {},
   "outputs": [
    {
     "data": {
      "text/plain": [
       "8"
      ]
     },
     "execution_count": 151,
     "metadata": {},
     "output_type": "execute_result"
    }
   ],
   "source": [
    "# range max val - min val\n",
    "rangeData = max(modusData) - min(modusData)\n",
    "rangeData"
   ]
  },
  {
   "cell_type": "code",
   "execution_count": 152,
   "id": "5156c4cc",
   "metadata": {},
   "outputs": [],
   "source": [
    "describeData = scipy.stats.describe(modusData)"
   ]
  },
  {
   "cell_type": "code",
   "execution_count": 153,
   "id": "899c40fc",
   "metadata": {},
   "outputs": [
    {
     "data": {
      "text/plain": [
       "DescribeResult(nobs=11, minmax=(1, 9), mean=4.181818181818182, variance=9.163636363636364, skewness=0.24935156205469858, kurtosis=-1.3784722222222225)"
      ]
     },
     "execution_count": 153,
     "metadata": {},
     "output_type": "execute_result"
    }
   ],
   "source": [
    "describeData"
   ]
  },
  {
   "cell_type": "code",
   "execution_count": 164,
   "id": "b0f18838",
   "metadata": {},
   "outputs": [
    {
     "name": "stdout",
     "output_type": "stream",
     "text": [
      "[0 1 2 3 4 5 6 7 8 9] [0.75500348 0.35071461 0.80161335 0.25629083 0.84679956 0.60054901\n",
      " 0.43038292 0.20369136 0.81545326 0.10250138]\n"
     ]
    }
   ],
   "source": [
    "x = np.array([0,1,2,3,4,5,6,7,8,9])\n",
    "y = np.random.rand(10)\n",
    "print(x, y)"
   ]
  },
  {
   "cell_type": "code",
   "execution_count": 166,
   "id": "76d885fa",
   "metadata": {},
   "outputs": [
    {
     "data": {
      "text/plain": [
       "array([[ 9.16666667, -0.29627403],\n",
       "       [-0.29627403,  0.0795069 ]])"
      ]
     },
     "execution_count": 166,
     "metadata": {},
     "output_type": "execute_result"
    }
   ],
   "source": [
    "covariaxy = np.cov(x, y)\n",
    "covariaxy"
   ]
  },
  {
   "cell_type": "code",
   "execution_count": 167,
   "id": "de589233",
   "metadata": {},
   "outputs": [],
   "source": [
    "# 2 D data\n",
    "twod = np.array([\n",
    "    [1,1,1],\n",
    "    [1,2,4],\n",
    "    [4,8,9],\n",
    "    [5,6,7]\n",
    "])"
   ]
  },
  {
   "cell_type": "code",
   "execution_count": 168,
   "id": "25f065f3",
   "metadata": {},
   "outputs": [
    {
     "data": {
      "text/plain": [
       "4.083333333333333"
      ]
     },
     "execution_count": 168,
     "metadata": {},
     "output_type": "execute_result"
    }
   ],
   "source": [
    "twod.mean()"
   ]
  },
  {
   "cell_type": "code",
   "execution_count": 169,
   "id": "9f8d6e23",
   "metadata": {},
   "outputs": [
    {
     "data": {
      "text/plain": [
       "4.0"
      ]
     },
     "execution_count": 169,
     "metadata": {},
     "output_type": "execute_result"
    }
   ],
   "source": [
    "np.median(twod)"
   ]
  },
  {
   "cell_type": "code",
   "execution_count": 173,
   "id": "c59d0ca1",
   "metadata": {},
   "outputs": [
    {
     "name": "stdout",
     "output_type": "stream",
     "text": [
      "[2.75 4.25 5.25] [1.         2.33333333 7.         6.        ]\n"
     ]
    }
   ],
   "source": [
    "xmed = np.mean(twod, axis=0)\n",
    "ymed = np.mean(twod, axis=1)\n",
    "\n",
    "print(xmed, ymed)"
   ]
  },
  {
   "cell_type": "code",
   "execution_count": 174,
   "id": "d86005a1",
   "metadata": {},
   "outputs": [
    {
     "data": {
      "text/plain": [
       "array([2.11474253, 3.13016916, 3.9842826 ])"
      ]
     },
     "execution_count": 174,
     "metadata": {},
     "output_type": "execute_result"
    }
   ],
   "source": [
    "scipy.stats.gmean(twod)"
   ]
  },
  {
   "cell_type": "code",
   "execution_count": 175,
   "id": "d7228a8e",
   "metadata": {},
   "outputs": [
    {
     "data": {
      "text/plain": [
       "array([1.        , 2.        , 6.6038545 , 5.94392195])"
      ]
     },
     "execution_count": 175,
     "metadata": {},
     "output_type": "execute_result"
    }
   ],
   "source": [
    "scipy.stats.gmean(twod, axis=1)"
   ]
  },
  {
   "cell_type": "code",
   "execution_count": 176,
   "id": "f42030bb",
   "metadata": {},
   "outputs": [
    {
     "data": {
      "text/plain": [
       "DescribeResult(nobs=4, minmax=(array([1, 1, 1]), array([5, 8, 9])), mean=array([2.75, 4.25, 5.25]), variance=array([ 4.25      , 10.91666667, 12.25      ]), skewness=array([ 0.11531718,  0.13205603, -0.18515606]), kurtosis=array([-1.84775087, -1.71586737, -1.41302235]))"
      ]
     },
     "execution_count": 176,
     "metadata": {},
     "output_type": "execute_result"
    }
   ],
   "source": [
    "scipy.stats.describe(twod)"
   ]
  },
  {
   "cell_type": "code",
   "execution_count": 177,
   "id": "0a689f21",
   "metadata": {},
   "outputs": [
    {
     "data": {
      "text/plain": [
       "DescribeResult(nobs=3, minmax=(array([1, 1, 4, 5]), array([1, 4, 9, 7])), mean=array([1.        , 2.33333333, 7.        , 6.        ]), variance=array([0.        , 2.33333333, 7.        , 1.        ]), skewness=array([ 0.        ,  0.38180177, -0.59517006,  0.        ]), kurtosis=array([-3. , -1.5, -1.5, -1.5]))"
      ]
     },
     "execution_count": 177,
     "metadata": {},
     "output_type": "execute_result"
    }
   ],
   "source": [
    "scipy.stats.describe(twod, axis=1)"
   ]
  },
  {
   "cell_type": "code",
   "execution_count": 178,
   "id": "b950c860",
   "metadata": {},
   "outputs": [],
   "source": [
    "row_names = [1,2,3,4]\n",
    "col_name = [\"a\",\"b\",\"c\"]\n",
    "\n",
    "df = pd.DataFrame(twod, index = row_names, columns= col_name)"
   ]
  },
  {
   "cell_type": "code",
   "execution_count": 179,
   "id": "d7477099",
   "metadata": {},
   "outputs": [
    {
     "data": {
      "text/html": [
       "<div>\n",
       "<style scoped>\n",
       "    .dataframe tbody tr th:only-of-type {\n",
       "        vertical-align: middle;\n",
       "    }\n",
       "\n",
       "    .dataframe tbody tr th {\n",
       "        vertical-align: top;\n",
       "    }\n",
       "\n",
       "    .dataframe thead th {\n",
       "        text-align: right;\n",
       "    }\n",
       "</style>\n",
       "<table border=\"1\" class=\"dataframe\">\n",
       "  <thead>\n",
       "    <tr style=\"text-align: right;\">\n",
       "      <th></th>\n",
       "      <th>a</th>\n",
       "      <th>b</th>\n",
       "      <th>c</th>\n",
       "    </tr>\n",
       "  </thead>\n",
       "  <tbody>\n",
       "    <tr>\n",
       "      <th>1</th>\n",
       "      <td>1</td>\n",
       "      <td>1</td>\n",
       "      <td>1</td>\n",
       "    </tr>\n",
       "    <tr>\n",
       "      <th>2</th>\n",
       "      <td>1</td>\n",
       "      <td>2</td>\n",
       "      <td>4</td>\n",
       "    </tr>\n",
       "    <tr>\n",
       "      <th>3</th>\n",
       "      <td>4</td>\n",
       "      <td>8</td>\n",
       "      <td>9</td>\n",
       "    </tr>\n",
       "    <tr>\n",
       "      <th>4</th>\n",
       "      <td>5</td>\n",
       "      <td>6</td>\n",
       "      <td>7</td>\n",
       "    </tr>\n",
       "  </tbody>\n",
       "</table>\n",
       "</div>"
      ],
      "text/plain": [
       "   a  b  c\n",
       "1  1  1  1\n",
       "2  1  2  4\n",
       "3  4  8  9\n",
       "4  5  6  7"
      ]
     },
     "execution_count": 179,
     "metadata": {},
     "output_type": "execute_result"
    }
   ],
   "source": [
    "df"
   ]
  },
  {
   "cell_type": "code",
   "execution_count": 180,
   "id": "ebb0d964",
   "metadata": {},
   "outputs": [
    {
     "data": {
      "text/plain": [
       "a    2.75\n",
       "b    4.25\n",
       "c    5.25\n",
       "dtype: float64"
      ]
     },
     "execution_count": 180,
     "metadata": {},
     "output_type": "execute_result"
    }
   ],
   "source": [
    "df.mean()"
   ]
  },
  {
   "cell_type": "code",
   "execution_count": 181,
   "id": "8f1dd63f",
   "metadata": {},
   "outputs": [
    {
     "data": {
      "text/plain": [
       "a     4.250000\n",
       "b    10.916667\n",
       "c    12.250000\n",
       "dtype: float64"
      ]
     },
     "execution_count": 181,
     "metadata": {},
     "output_type": "execute_result"
    }
   ],
   "source": [
    "df.var()"
   ]
  },
  {
   "cell_type": "code",
   "execution_count": 183,
   "id": "d6e2146a",
   "metadata": {},
   "outputs": [
    {
     "data": {
      "text/plain": [
       "1    1.000000\n",
       "2    2.333333\n",
       "3    7.000000\n",
       "4    6.000000\n",
       "dtype: float64"
      ]
     },
     "execution_count": 183,
     "metadata": {},
     "output_type": "execute_result"
    }
   ],
   "source": [
    "df.mean(axis=1)"
   ]
  },
  {
   "cell_type": "code",
   "execution_count": 189,
   "id": "a20a5ce3",
   "metadata": {},
   "outputs": [
    {
     "data": {
      "text/html": [
       "<div>\n",
       "<style scoped>\n",
       "    .dataframe tbody tr th:only-of-type {\n",
       "        vertical-align: middle;\n",
       "    }\n",
       "\n",
       "    .dataframe tbody tr th {\n",
       "        vertical-align: top;\n",
       "    }\n",
       "\n",
       "    .dataframe thead th {\n",
       "        text-align: right;\n",
       "    }\n",
       "</style>\n",
       "<table border=\"1\" class=\"dataframe\">\n",
       "  <thead>\n",
       "    <tr style=\"text-align: right;\">\n",
       "      <th></th>\n",
       "      <th>a</th>\n",
       "      <th>b</th>\n",
       "      <th>c</th>\n",
       "    </tr>\n",
       "  </thead>\n",
       "  <tbody>\n",
       "    <tr>\n",
       "      <th>count</th>\n",
       "      <td>4.000000</td>\n",
       "      <td>4.000000</td>\n",
       "      <td>4.00</td>\n",
       "    </tr>\n",
       "    <tr>\n",
       "      <th>mean</th>\n",
       "      <td>2.750000</td>\n",
       "      <td>4.250000</td>\n",
       "      <td>5.25</td>\n",
       "    </tr>\n",
       "    <tr>\n",
       "      <th>std</th>\n",
       "      <td>2.061553</td>\n",
       "      <td>3.304038</td>\n",
       "      <td>3.50</td>\n",
       "    </tr>\n",
       "    <tr>\n",
       "      <th>min</th>\n",
       "      <td>1.000000</td>\n",
       "      <td>1.000000</td>\n",
       "      <td>1.00</td>\n",
       "    </tr>\n",
       "    <tr>\n",
       "      <th>25%</th>\n",
       "      <td>1.000000</td>\n",
       "      <td>1.750000</td>\n",
       "      <td>3.25</td>\n",
       "    </tr>\n",
       "    <tr>\n",
       "      <th>50%</th>\n",
       "      <td>2.500000</td>\n",
       "      <td>4.000000</td>\n",
       "      <td>5.50</td>\n",
       "    </tr>\n",
       "    <tr>\n",
       "      <th>75%</th>\n",
       "      <td>4.250000</td>\n",
       "      <td>6.500000</td>\n",
       "      <td>7.50</td>\n",
       "    </tr>\n",
       "    <tr>\n",
       "      <th>max</th>\n",
       "      <td>5.000000</td>\n",
       "      <td>8.000000</td>\n",
       "      <td>9.00</td>\n",
       "    </tr>\n",
       "  </tbody>\n",
       "</table>\n",
       "</div>"
      ],
      "text/plain": [
       "              a         b     c\n",
       "count  4.000000  4.000000  4.00\n",
       "mean   2.750000  4.250000  5.25\n",
       "std    2.061553  3.304038  3.50\n",
       "min    1.000000  1.000000  1.00\n",
       "25%    1.000000  1.750000  3.25\n",
       "50%    2.500000  4.000000  5.50\n",
       "75%    4.250000  6.500000  7.50\n",
       "max    5.000000  8.000000  9.00"
      ]
     },
     "execution_count": 189,
     "metadata": {},
     "output_type": "execute_result"
    }
   ],
   "source": [
    "df.describe()"
   ]
  },
  {
   "cell_type": "code",
   "execution_count": null,
   "id": "08cb5dac",
   "metadata": {},
   "outputs": [],
   "source": []
  }
 ],
 "metadata": {
  "kernelspec": {
   "display_name": "Python 3",
   "language": "python",
   "name": "python3"
  },
  "language_info": {
   "codemirror_mode": {
    "name": "ipython",
    "version": 3
   },
   "file_extension": ".py",
   "mimetype": "text/x-python",
   "name": "python",
   "nbconvert_exporter": "python",
   "pygments_lexer": "ipython3",
   "version": "3.8.8"
  },
  "toc": {
   "base_numbering": 1,
   "nav_menu": {},
   "number_sections": true,
   "sideBar": true,
   "skip_h1_title": false,
   "title_cell": "Table of Contents",
   "title_sidebar": "Contents",
   "toc_cell": false,
   "toc_position": {},
   "toc_section_display": true,
   "toc_window_display": false
  }
 },
 "nbformat": 4,
 "nbformat_minor": 5
}
