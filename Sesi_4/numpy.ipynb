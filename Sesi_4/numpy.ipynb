{
 "cells": [
  {
   "cell_type": "code",
   "execution_count": 1,
   "id": "8de849e1",
   "metadata": {},
   "outputs": [],
   "source": [
    "import numpy as np"
   ]
  },
  {
   "cell_type": "code",
   "execution_count": 6,
   "id": "add674aa",
   "metadata": {},
   "outputs": [],
   "source": [
    "myArray = np.array([1,2,3,4,5])\n",
    "myList = [1,2,3,4,5,6]"
   ]
  },
  {
   "cell_type": "code",
   "execution_count": 7,
   "id": "131338df",
   "metadata": {},
   "outputs": [
    {
     "data": {
      "text/plain": [
       "array([1, 2, 3, 4, 5])"
      ]
     },
     "execution_count": 7,
     "metadata": {},
     "output_type": "execute_result"
    }
   ],
   "source": [
    "myArray"
   ]
  },
  {
   "cell_type": "code",
   "execution_count": 15,
   "id": "30f30fe0",
   "metadata": {},
   "outputs": [
    {
     "data": {
      "text/plain": [
       "[1, 2, 3, 4, 5, 6]"
      ]
     },
     "execution_count": 15,
     "metadata": {},
     "output_type": "execute_result"
    }
   ],
   "source": [
    "myList"
   ]
  },
  {
   "cell_type": "code",
   "execution_count": 21,
   "id": "2bdbc64c",
   "metadata": {},
   "outputs": [
    {
     "name": "stdout",
     "output_type": "stream",
     "text": [
      "[1, 2, 3, 4, 5, 6, 1, 2, 3, 4, 5, 6, 1, 2, 3, 4, 5, 6, 1, 2, 3, 4, 5, 6, 1, 2, 3, 4, 5, 6] [ 5 10 15 20 25]\n"
     ]
    }
   ],
   "source": [
    "#perkalian\n",
    "multiplyList = myList * 5\n",
    "multiplyArray = myArray * 5\n",
    "\n",
    "print(multiplyList, multiplyArray)"
   ]
  },
  {
   "cell_type": "code",
   "execution_count": 14,
   "id": "096e7168",
   "metadata": {},
   "outputs": [],
   "source": [
    "myNewArray = np.array(myList)"
   ]
  },
  {
   "cell_type": "code",
   "execution_count": null,
   "id": "f954c7d1",
   "metadata": {},
   "outputs": [],
   "source": [
    "myNewArray * 5"
   ]
  },
  {
   "cell_type": "code",
   "execution_count": 19,
   "id": "ea258590",
   "metadata": {},
   "outputs": [
    {
     "ename": "TypeError",
     "evalue": "unsupported operand type(s) for /: 'list' and 'int'",
     "output_type": "error",
     "traceback": [
      "\u001b[1;31m---------------------------------------------------------------------------\u001b[0m",
      "\u001b[1;31mTypeError\u001b[0m                                 Traceback (most recent call last)",
      "\u001b[1;32m<ipython-input-19-47f617e14565>\u001b[0m in \u001b[0;36m<module>\u001b[1;34m\u001b[0m\n\u001b[0;32m      1\u001b[0m \u001b[1;31m#pembagian\u001b[0m\u001b[1;33m\u001b[0m\u001b[1;33m\u001b[0m\u001b[1;33m\u001b[0m\u001b[0m\n\u001b[1;32m----> 2\u001b[1;33m \u001b[0mdevideList\u001b[0m \u001b[1;33m=\u001b[0m \u001b[0mmyList\u001b[0m \u001b[1;33m/\u001b[0m \u001b[1;36m2\u001b[0m\u001b[1;33m\u001b[0m\u001b[1;33m\u001b[0m\u001b[0m\n\u001b[0m\u001b[0;32m      3\u001b[0m \u001b[0mprint\u001b[0m\u001b[1;33m(\u001b[0m\u001b[0mdevideList\u001b[0m\u001b[1;33m)\u001b[0m\u001b[1;33m\u001b[0m\u001b[1;33m\u001b[0m\u001b[0m\n",
      "\u001b[1;31mTypeError\u001b[0m: unsupported operand type(s) for /: 'list' and 'int'"
     ]
    }
   ],
   "source": [
    "#pembagian list tidak bisa dibagi\n",
    "devideList = myList / 2\n",
    "print(devideList)"
   ]
  },
  {
   "cell_type": "code",
   "execution_count": 23,
   "id": "fbc6e54f",
   "metadata": {},
   "outputs": [
    {
     "name": "stdout",
     "output_type": "stream",
     "text": [
      "add:  [3 4 5 6 7]\n",
      "reduce:  [-1  0  1  2  3]\n",
      "square:  [ 1  4  9 16 25]\n"
     ]
    }
   ],
   "source": [
    "#penjumlahan\n",
    "myArray = np.array([1,2,3,4,5])\n",
    "#operasi satu bilangan\n",
    "addMyArray = myArray + 2\n",
    "reduceMyArray = myArray - 2\n",
    "square = myArray **2\n",
    "\n",
    "print(\"add: \", addMyArray)\n",
    "print(\"reduce: \", reduceMyArray)\n",
    "print(\"square: \", square)"
   ]
  },
  {
   "cell_type": "code",
   "execution_count": 26,
   "id": "572700d3",
   "metadata": {},
   "outputs": [],
   "source": [
    "#boolean operation\n",
    "\n",
    "myArray = np.array([1,2,3,4,5])\n",
    "isMyarrayMoreThan3 = myArray > 3"
   ]
  },
  {
   "cell_type": "code",
   "execution_count": 27,
   "id": "03be062a",
   "metadata": {},
   "outputs": [
    {
     "data": {
      "text/plain": [
       "array([False, False, False,  True,  True])"
      ]
     },
     "execution_count": 27,
     "metadata": {},
     "output_type": "execute_result"
    }
   ],
   "source": [
    "isMyarrayMoreThan3"
   ]
  },
  {
   "cell_type": "code",
   "execution_count": 28,
   "id": "7cdfc4ba",
   "metadata": {},
   "outputs": [
    {
     "name": "stdout",
     "output_type": "stream",
     "text": [
      "[4 5]\n"
     ]
    }
   ],
   "source": [
    "#Filtering\n",
    "\n",
    "valueMoreThan3c = myArray[myArray > 3]\n",
    "print(valueMoreThan3c)"
   ]
  },
  {
   "cell_type": "code",
   "execution_count": 34,
   "id": "4f8a24fb",
   "metadata": {},
   "outputs": [],
   "source": [
    "#array 2 dimensi dengan ukuran 3 x 4\n",
    "\n",
    "array2D = np.array([[1,2,3,4],\n",
    "                    [4,5,6,7],\n",
    "                    [8,9,10,11]\n",
    "                   ])\n"
   ]
  },
  {
   "cell_type": "code",
   "execution_count": 35,
   "id": "ee723fa2",
   "metadata": {},
   "outputs": [
    {
     "name": "stdout",
     "output_type": "stream",
     "text": [
      "(3, 4)\n"
     ]
    }
   ],
   "source": [
    "# melihat ukuran array\n",
    "\n",
    "print(array2D.shape)\n"
   ]
  },
  {
   "cell_type": "code",
   "execution_count": 36,
   "id": "01089777",
   "metadata": {},
   "outputs": [
    {
     "name": "stdout",
     "output_type": "stream",
     "text": [
      "<class 'numpy.ndarray'>\n"
     ]
    }
   ],
   "source": [
    "# melihat type data\n",
    "\n",
    "print(type(array2D))"
   ]
  },
  {
   "cell_type": "code",
   "execution_count": 38,
   "id": "99e23c6d",
   "metadata": {},
   "outputs": [
    {
     "name": "stdout",
     "output_type": "stream",
     "text": [
      "4\n",
      "4\n"
     ]
    }
   ],
   "source": [
    "# mengambil dari array 2D angka 4, indeks 0\n",
    "\n",
    "print(array2D[1,0])\n",
    "\n",
    "# dengan cara lain\n",
    "print(array2D[1][0])"
   ]
  },
  {
   "cell_type": "code",
   "execution_count": 45,
   "id": "f5d8084c",
   "metadata": {},
   "outputs": [
    {
     "name": "stdout",
     "output_type": "stream",
     "text": [
      "[[ 5  6  7]\n",
      " [ 9 10 11]]\n"
     ]
    }
   ],
   "source": [
    "# rentang array 1:2 2:3\n",
    "\n",
    "print(array2D[1:, 1:])"
   ]
  },
  {
   "cell_type": "code",
   "execution_count": 48,
   "id": "1987c4d3",
   "metadata": {},
   "outputs": [
    {
     "name": "stdout",
     "output_type": "stream",
     "text": [
      "[[2]\n",
      " [5]]\n"
     ]
    }
   ],
   "source": [
    "print(array2D[0:2,1:2])"
   ]
  },
  {
   "cell_type": "code",
   "execution_count": 49,
   "id": "60c7a237",
   "metadata": {},
   "outputs": [
    {
     "name": "stdout",
     "output_type": "stream",
     "text": [
      "[[ 4  5  6  7]\n",
      " [ 8  9 10 11]]\n"
     ]
    }
   ],
   "source": [
    "print(array2D[0:][1:3])"
   ]
  },
  {
   "cell_type": "code",
   "execution_count": 58,
   "id": "5a26ed46",
   "metadata": {},
   "outputs": [
    {
     "name": "stdout",
     "output_type": "stream",
     "text": [
      "[[ 2  3]\n",
      " [ 5  6]\n",
      " [ 9 10]]\n"
     ]
    }
   ],
   "source": [
    "print(array2D[:, 1:3])"
   ]
  },
  {
   "cell_type": "code",
   "execution_count": 33,
   "id": "5e4bdcb1",
   "metadata": {},
   "outputs": [
    {
     "name": "stdout",
     "output_type": "stream",
     "text": [
      "[[2 3]\n",
      " [5 6]]\n"
     ]
    }
   ],
   "source": [
    "\n",
    "array2D = np.array([[1,2,3,4],\n",
    "                    [4,5,6,7],\n",
    "                    [8,9,10,11]\n",
    "                   ])\n",
    "\n",
    "print(array2D[0:2, 1:3 ])"
   ]
  },
  {
   "cell_type": "code",
   "execution_count": 5,
   "id": "d1c794e2",
   "metadata": {},
   "outputs": [],
   "source": [
    "# import data from csv\n",
    "import numpy as np"
   ]
  },
  {
   "cell_type": "code",
   "execution_count": 6,
   "id": "0703884f",
   "metadata": {},
   "outputs": [
    {
     "data": {
      "text/plain": [
       "array([[70., 75., 80., 30.],\n",
       "       [75., 80., 90., 68.],\n",
       "       [65., 77., 60., 90.],\n",
       "       [40., 60., 55., 75.]])"
      ]
     },
     "execution_count": 6,
     "metadata": {},
     "output_type": "execute_result"
    }
   ],
   "source": [
    "myStudentData = np.genfromtxt('./data.csv', skip_header=1, delimiter=\",\", filling_values=40)\n",
    "myStudentData"
   ]
  },
  {
   "cell_type": "code",
   "execution_count": 8,
   "id": "7e29b980",
   "metadata": {},
   "outputs": [
    {
     "name": "stdout",
     "output_type": "stream",
     "text": [
      "[75. 80. 90. 90.]\n"
     ]
    },
    {
     "data": {
      "text/plain": [
       "30.0"
      ]
     },
     "execution_count": 8,
     "metadata": {},
     "output_type": "execute_result"
    }
   ],
   "source": [
    "# Mencari isi nilai yang terbesar -> amax\n",
    "\n",
    "maxInClass = np.amax(myStudentData, axis = 0)\n",
    "print(maxInClass)\n"
   ]
  },
  {
   "cell_type": "code",
   "execution_count": 53,
   "id": "0de24e83",
   "metadata": {},
   "outputs": [
    {
     "name": "stdout",
     "output_type": "stream",
     "text": [
      "[30. 68. 60. 40.]\n"
     ]
    }
   ],
   "source": [
    "# Mencari isi nilai yang terkecil -> amin\n",
    "\n",
    "minInClass = np.amin(myStudentData, axis=1)\n",
    "print(minInClass)"
   ]
  },
  {
   "cell_type": "code",
   "execution_count": 58,
   "id": "8fcdc0c1",
   "metadata": {},
   "outputs": [
    {
     "name": "stdout",
     "output_type": "stream",
     "text": [
      "[63.75 78.25 73.   57.5 ]\n"
     ]
    }
   ],
   "source": [
    "# mencari rata-rata -> mean\n",
    "\n",
    "rata2SiswaSetiapMatpel = np.mean(myStudentData, axis = 1)\n",
    "print(rata2SiswaSetiapMatpel)"
   ]
  },
  {
   "cell_type": "code",
   "execution_count": 94,
   "id": "716d34eb",
   "metadata": {},
   "outputs": [
    {
     "data": {
      "text/plain": [
       "array([[70., 75., 80., 30., 45., 45., 45., 65.],\n",
       "       [75., 80., 90., 68., 50., 50., 50., 70.],\n",
       "       [65., 77., 60., 90., 40., 40., 40., 40.],\n",
       "       [40., 60., 55., 75., 90., 90., 90., 90.],\n",
       "       [65., 70., 40., 90., 65., 70., 40., 90.]])"
      ]
     },
     "execution_count": 94,
     "metadata": {},
     "output_type": "execute_result"
    }
   ],
   "source": [
    "# menambahkan data -> append dengan axis 1 menambahkan kolom, memerlukan kurung siku\n",
    "# AXIS 0 menambahkan baris di bawah, tidak perlu kurung siku\n",
    "\n",
    "myStudentData = np.append(myStudentData, [[65,70,40,90,65,70,40,90]], axis = 0)\n",
    "myStudentData"
   ]
  },
  {
   "cell_type": "code",
   "execution_count": 95,
   "id": "0966c370",
   "metadata": {},
   "outputs": [
    {
     "data": {
      "text/plain": [
       "array([[70., 75., 80., 30., 45., 45., 45., 65.],\n",
       "       [75., 80., 90., 68., 50., 50., 50., 70.],\n",
       "       [65., 77., 60., 90., 40., 40., 40., 40.],\n",
       "       [40., 60., 55., 75., 90., 90., 90., 90.],\n",
       "       [65., 70., 40., 90., 65., 70., 40., 90.]])"
      ]
     },
     "execution_count": 95,
     "metadata": {},
     "output_type": "execute_result"
    }
   ],
   "source": [
    "myStudentData"
   ]
  },
  {
   "cell_type": "code",
   "execution_count": 98,
   "id": "bdd2aa4b",
   "metadata": {},
   "outputs": [
    {
     "name": "stdout",
     "output_type": "stream",
     "text": [
      "Search results for 'median'\n",
      "---------------------------\n",
      "numpy.median\n",
      "    Compute the median along the specified axis.\n",
      "numpy.nanmedian\n",
      "    Compute the median along the specified axis, while ignoring NaNs.\n",
      "numpy.ma.median\n",
      "    Compute the median along the specified axis.\n",
      "numpy.pad\n",
      "    Pad an array.\n",
      "numpy.quantile\n",
      "    Compute the q-th quantile of the data along the specified axis.\n",
      "numpy.percentile\n",
      "    Compute the q-th percentile of the data along the specified axis.\n",
      "numpy.nanquantile\n",
      "    Compute the qth quantile of the data along the specified axis,\n",
      "numpy.nanpercentile\n",
      "    Compute the qth percentile of the data along the specified axis,\n",
      "numpy.random.Generator.logistic\n",
      "    Draw samples from a logistic distribution.\n",
      "numpy.random.RandomState.logistic\n",
      "    Draw samples from a logistic distribution.\n",
      "numpy.ma.tests.test_extras.TestMedian.test_docstring_examples\n",
      "    test the examples given in the docstring of ma.median"
     ]
    }
   ],
   "source": [
    "np.lookfor(\"median\")"
   ]
  },
  {
   "cell_type": "code",
   "execution_count": 99,
   "id": "7b7938b3",
   "metadata": {},
   "outputs": [],
   "source": [
    "[y, x] = myStudentData.shape"
   ]
  },
  {
   "cell_type": "code",
   "execution_count": 1,
   "id": "d074bae2",
   "metadata": {},
   "outputs": [
    {
     "ename": "SyntaxError",
     "evalue": "invalid syntax (<ipython-input-1-b58b3e9b7f67>, line 1)",
     "output_type": "error",
     "traceback": [
      "\u001b[1;36m  File \u001b[1;32m\"<ipython-input-1-b58b3e9b7f67>\"\u001b[1;36m, line \u001b[1;32m1\u001b[0m\n\u001b[1;33m    myStudentData[]\u001b[0m\n\u001b[1;37m                  ^\u001b[0m\n\u001b[1;31mSyntaxError\u001b[0m\u001b[1;31m:\u001b[0m invalid syntax\n"
     ]
    }
   ],
   "source": [
    "myStudentData[]"
   ]
  },
  {
   "cell_type": "code",
   "execution_count": 101,
   "id": "ac6269cd",
   "metadata": {},
   "outputs": [
    {
     "data": {
      "text/plain": [
       "array([[70., 75., 80., 30., 45., 45., 45., 65.],\n",
       "       [75., 80., 90., 68., 50., 50., 50., 70.],\n",
       "       [65., 77., 60., 90., 40., 40., 40., 40.],\n",
       "       [40., 60., 55., 75., 90., 90., 90., 90.],\n",
       "       [65., 70., 40., 90., 65., 70., 40., 90.]])"
      ]
     },
     "execution_count": 101,
     "metadata": {},
     "output_type": "execute_result"
    }
   ],
   "source": [
    "myStudentData"
   ]
  },
  {
   "cell_type": "code",
   "execution_count": 104,
   "id": "5848f22d",
   "metadata": {},
   "outputs": [
    {
     "data": {
      "text/plain": [
       "array([[70., 75., 80., 30., 45., 45., 45.],\n",
       "       [75., 80., 90., 68., 50., 50., 50.],\n",
       "       [65., 77., 60., 90., 40., 40., 40.],\n",
       "       [40., 60., 55., 75., 90., 90., 90.],\n",
       "       [65., 70., 40., 90., 65., 70., 40.]])"
      ]
     },
     "execution_count": 104,
     "metadata": {},
     "output_type": "execute_result"
    }
   ],
   "source": [
    "myNewStudent = np.delete(myStudentData, [7], axis = 1)\n",
    "myNewStudent"
   ]
  },
  {
   "cell_type": "code",
   "execution_count": null,
   "id": "8f63bbad",
   "metadata": {},
   "outputs": [],
   "source": []
  }
 ],
 "metadata": {
  "kernelspec": {
   "display_name": "Python 3",
   "language": "python",
   "name": "python3"
  },
  "language_info": {
   "codemirror_mode": {
    "name": "ipython",
    "version": 3
   },
   "file_extension": ".py",
   "mimetype": "text/x-python",
   "name": "python",
   "nbconvert_exporter": "python",
   "pygments_lexer": "ipython3",
   "version": "3.8.8"
  },
  "toc": {
   "base_numbering": 1,
   "nav_menu": {},
   "number_sections": true,
   "sideBar": true,
   "skip_h1_title": false,
   "title_cell": "Table of Contents",
   "title_sidebar": "Contents",
   "toc_cell": false,
   "toc_position": {},
   "toc_section_display": true,
   "toc_window_display": false
  }
 },
 "nbformat": 4,
 "nbformat_minor": 5
}
