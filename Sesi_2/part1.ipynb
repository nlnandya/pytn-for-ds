{
 "cells": [
  {
   "cell_type": "code",
   "execution_count": 10,
   "id": "c00a1d48",
   "metadata": {},
   "outputs": [
    {
     "name": "stdout",
     "output_type": "stream",
     "text": [
      "please input number: 3\n",
      "not eq\n",
      "False\n"
     ]
    }
   ],
   "source": [
    "# condition\n",
    "# equals a == b\n",
    "# not equals a != b\n",
    "# more than a > b\n",
    "# less than a < b\n",
    "# more than equals a >= b\n",
    "# less than equals a <= b\n",
    "\n",
    "b = 20\n",
    "a = input(\"please input number: \")\n",
    "a = int(a)\n",
    "if a == b:\n",
    "    print(\"eq\")\n",
    "else:\n",
    "    print(\"not eq\")\n",
    "    \n",
    "# integer falsy 0\n",
    "# string falsy \"\"\n",
    "# list falsy []\n",
    "# dictionary falsy {}\n",
    "\n",
    "print(bool(0))"
   ]
  },
  {
   "cell_type": "code",
   "execution_count": 11,
   "id": "640bc23c",
   "metadata": {},
   "outputs": [
    {
     "name": "stdout",
     "output_type": "stream",
     "text": [
      "False\n"
     ]
    }
   ],
   "source": [
    "print(bool(()))"
   ]
  },
  {
   "cell_type": "code",
   "execution_count": null,
   "id": "d0e42db9",
   "metadata": {},
   "outputs": [],
   "source": [
    "myAge = 0\n",
    "adultTreshold = 18\n",
    "\n",
    "if myAge >= adultTresholdlt:\n",
    "    print(\"you are adult\")\n",
    "    print(\"Lest drink\")\n",
    "else:\n",
    "    yearsToadult = adultTreshold - myAge"
   ]
  },
  {
   "cell_type": "code",
   "execution_count": 20,
   "id": "7f5c15cd",
   "metadata": {},
   "outputs": [
    {
     "name": "stdout",
     "output_type": "stream",
     "text": [
      "Masukkan nilai: 80\n",
      "B\n",
      "done\n"
     ]
    }
   ],
   "source": [
    "# User input nilai dalam angka \n",
    "# jika input > 90 maka nilai huruf A\n",
    "# jika nilai = 90 dan >70 maka nilai huruf B\n",
    "# jika nilai <=70 dan > 50 maka nilai C\n",
    "# jika nilai < 50 maka c\n",
    "\n",
    "nilai = int(input(\"Masukkan nilai: \"))\n",
    "\n",
    "if nilai > 90:\n",
    "    print(\"A\")\n",
    "elif nilai <= 90 and nilai > 70:\n",
    "    print(\"B\")\n",
    "else:\n",
    "    print(\"E\")\n",
    "print(\"done\")"
   ]
  },
  {
   "cell_type": "code",
   "execution_count": 27,
   "id": "114cc94e",
   "metadata": {},
   "outputs": [
    {
     "name": "stdout",
     "output_type": "stream",
     "text": [
      "pintar nih\n",
      "Mantap\n"
     ]
    }
   ],
   "source": [
    "#jangan dilakukan. jadi sulit untuk orang lain membaca kodingan kita\n",
    "nilai = 71\n",
    "\n",
    "if nilai > 70: print(\"pintar nih\"); print(\"Mantap\")"
   ]
  },
  {
   "cell_type": "code",
   "execution_count": 28,
   "id": "686ba634",
   "metadata": {},
   "outputs": [
    {
     "name": "stdout",
     "output_type": "stream",
     "text": [
      "salah\n"
     ]
    }
   ],
   "source": [
    "# integer falsy 0\n",
    "# string falsy \"\"\n",
    "# list falsy []\n",
    "# dictionary falsy {}\n",
    "\n",
    "if 0:\n",
    "    print(\"benar\")\n",
    "else:\n",
    "    print(\"salah\")"
   ]
  },
  {
   "cell_type": "code",
   "execution_count": 29,
   "id": "571f1118",
   "metadata": {},
   "outputs": [
    {
     "name": "stdout",
     "output_type": "stream",
     "text": [
      "salah\n"
     ]
    }
   ],
   "source": [
    "if \"\":\n",
    "    print(\"benar\")\n",
    "else:\n",
    "    print(\"salah\")"
   ]
  },
  {
   "cell_type": "code",
   "execution_count": 35,
   "id": "cdae9bf1",
   "metadata": {},
   "outputs": [
    {
     "name": "stdout",
     "output_type": "stream",
     "text": [
      "perulangan ke 1\n",
      "perulangan ke 2\n",
      "perulangan ke 3\n",
      "perulangan ke 4\n",
      "perulangan ke 5\n",
      "perulangan ke 6\n",
      "perulangan ke 7\n",
      "perulangan ke 8\n",
      "perulangan ke 9\n",
      "perulangan ke 10\n",
      "perulangan ke 11\n"
     ]
    }
   ],
   "source": [
    "# perulangan\n",
    "# while\n",
    "# for\n",
    "\n",
    "i = 0\n",
    "while i <= 10:\n",
    "    i = i + 1\n",
    "    print(\"perulangan ke\", i)"
   ]
  },
  {
   "cell_type": "code",
   "execution_count": 46,
   "id": "7ebcc06f",
   "metadata": {},
   "outputs": [
    {
     "ename": "TypeError",
     "evalue": "'str' object is not callable",
     "output_type": "error",
     "traceback": [
      "\u001b[1;31m---------------------------------------------------------------\u001b[0m",
      "\u001b[1;31mTypeError\u001b[0m                     Traceback (most recent call last)",
      "\u001b[1;32m<ipython-input-46-ca2b0394108e>\u001b[0m in \u001b[0;36m<module>\u001b[1;34m\u001b[0m\n\u001b[0;32m      1\u001b[0m \u001b[0mnilaiStr\u001b[0m \u001b[1;33m=\u001b[0m \u001b[1;34m\" \"\u001b[0m\u001b[1;33m\u001b[0m\u001b[1;33m\u001b[0m\u001b[0m\n\u001b[0;32m      2\u001b[0m \u001b[1;32mwhile\u001b[0m \u001b[0mnilaiStr\u001b[0m \u001b[1;33m!=\u001b[0m \u001b[1;34m\"exit\"\u001b[0m\u001b[1;33m:\u001b[0m\u001b[1;33m\u001b[0m\u001b[1;33m\u001b[0m\u001b[0m\n\u001b[1;32m----> 3\u001b[1;33m     \u001b[0mnilaiStr\u001b[0m \u001b[1;33m=\u001b[0m \u001b[0minput\u001b[0m\u001b[1;33m(\u001b[0m\u001b[1;34m\"Masukkan nilai: \"\u001b[0m\u001b[1;33m)\u001b[0m\u001b[1;33m\u001b[0m\u001b[1;33m\u001b[0m\u001b[0m\n\u001b[0m\u001b[0;32m      4\u001b[0m     \u001b[0mnilai\u001b[0m \u001b[1;33m=\u001b[0m \u001b[0mint\u001b[0m\u001b[1;33m(\u001b[0m\u001b[0mnilaiStr\u001b[0m\u001b[1;33m)\u001b[0m\u001b[1;33m\u001b[0m\u001b[1;33m\u001b[0m\u001b[0m\n\u001b[0;32m      5\u001b[0m     \u001b[1;32mif\u001b[0m \u001b[0mnilai\u001b[0m \u001b[1;33m>\u001b[0m \u001b[1;36m90\u001b[0m\u001b[1;33m:\u001b[0m\u001b[1;33m\u001b[0m\u001b[1;33m\u001b[0m\u001b[0m\n",
      "\u001b[1;31mTypeError\u001b[0m: 'str' object is not callable"
     ]
    }
   ],
   "source": [
    "nilaiStr = \" \"\n",
    "while nilaiStr != \"exit\":\n",
    "    nilaiStr = input(\"Masukkan nilai: \")\n",
    "    nilai = int(nilaiStr)\n",
    "    if nilai > 90:\n",
    "        print(\"A\")\n",
    "    elif nilai <= 90 and nilai > 70:\n",
    "        print(\"B\")\n",
    "    else:\n",
    "        print(\"E\")\n",
    "        \n",
    "print(\"selesai terima kasih\")"
   ]
  },
  {
   "cell_type": "markdown",
   "id": "ba634cf5",
   "metadata": {},
   "source": [
    "# -------------------------------"
   ]
  },
  {
   "cell_type": "code",
   "execution_count": 48,
   "id": "e0dc7200",
   "metadata": {},
   "outputs": [
    {
     "ename": "TypeError",
     "evalue": "'str' object is not callable",
     "output_type": "error",
     "traceback": [
      "\u001b[1;31m---------------------------------------------------------------\u001b[0m",
      "\u001b[1;31mTypeError\u001b[0m                     Traceback (most recent call last)",
      "\u001b[1;32m<ipython-input-48-6f018328c764>\u001b[0m in \u001b[0;36m<module>\u001b[1;34m\u001b[0m\n\u001b[1;32m----> 1\u001b[1;33m \u001b[0mnilaiStr\u001b[0m \u001b[1;33m=\u001b[0m \u001b[0minput\u001b[0m\u001b[1;33m(\u001b[0m\u001b[1;34m\"masukan nilai: \"\u001b[0m\u001b[1;33m)\u001b[0m\u001b[1;33m\u001b[0m\u001b[1;33m\u001b[0m\u001b[0m\n\u001b[0m",
      "\u001b[1;31mTypeError\u001b[0m: 'str' object is not callable"
     ]
    }
   ],
   "source": [
    "nilaiStr = input(\"masukan nilai: \")"
   ]
  },
  {
   "cell_type": "code",
   "execution_count": null,
   "id": "219e6568",
   "metadata": {},
   "outputs": [],
   "source": [
    "nilaiStr = \" \"\n",
    "while True:\n",
    "    nilaiStr = input(\"masukan nilai\")\n",
    "    if not nilaiStr.isnumeric(): break;\n",
    "        \n",
    "    nilai = int(nilaiStr)\n",
    "    if nilai > 90:\n",
    "        print(\"A\")\n",
    "    elif nilai <= 90 and nilai > 70:\n",
    "        print(\"B\")\n",
    "    else:\n",
    "        print(\"E\")\n",
    "        \n",
    "print(\"Selesai, terima kasih\")"
   ]
  }
 ],
 "metadata": {
  "kernelspec": {
   "display_name": "Python 3",
   "language": "python",
   "name": "python3"
  },
  "language_info": {
   "codemirror_mode": {
    "name": "ipython",
    "version": 3
   },
   "file_extension": ".py",
   "mimetype": "text/x-python",
   "name": "python",
   "nbconvert_exporter": "python",
   "pygments_lexer": "ipython3",
   "version": "3.8.8"
  },
  "toc": {
   "base_numbering": 1,
   "nav_menu": {},
   "number_sections": true,
   "sideBar": true,
   "skip_h1_title": false,
   "title_cell": "Table of Contents",
   "title_sidebar": "Contents",
   "toc_cell": false,
   "toc_position": {},
   "toc_section_display": true,
   "toc_window_display": false
  }
 },
 "nbformat": 4,
 "nbformat_minor": 5
}
