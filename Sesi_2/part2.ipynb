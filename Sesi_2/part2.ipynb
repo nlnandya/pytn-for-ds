{
 "cells": [
  {
   "cell_type": "code",
   "execution_count": 1,
   "source": [
    "nilaiStr = input(\"masukan nilai:\")"
   ],
   "outputs": [
    {
     "output_type": "stream",
     "name": "stdout",
     "text": [
      "masukan nilai:10\n"
     ]
    }
   ],
   "metadata": {}
  },
  {
   "cell_type": "code",
   "execution_count": 2,
   "source": [
    "nilaiStr = \"\"\r\n",
    "nilaiStr = input(\"masukan nilai\")"
   ],
   "outputs": [
    {
     "output_type": "stream",
     "name": "stdout",
     "text": [
      "masukan nilai10\n"
     ]
    }
   ],
   "metadata": {}
  },
  {
   "cell_type": "code",
   "execution_count": null,
   "source": [],
   "outputs": [],
   "metadata": {}
  },
  {
   "cell_type": "code",
   "execution_count": 20,
   "source": [
    "# masukan nomor program \r\n",
    "# akan menambahkansemua bilangan genap diantara 0 sampai dengan nomor yang input\r\n",
    "# 7 hasil = 12\r\n",
    "\r\n",
    "number = 0\r\n",
    "totalEven = 0\r\n",
    "while number < 10:\r\n",
    "    if number %2 == 0:\r\n",
    "        totalEven +=number\r\n",
    "    number +=1\r\n",
    "print(totalEven)\r\n",
    "    "
   ],
   "outputs": [
    {
     "output_type": "stream",
     "name": "stdout",
     "text": [
      "20\n"
     ]
    }
   ],
   "metadata": {}
  },
  {
   "cell_type": "code",
   "execution_count": 24,
   "source": [
    "#buatlah program dimana user memasukan suatu angka, dan program akan megenerate angka random antara 0 sampai 10.\r\n",
    "#jika angka yang dimasukan user tidak sama maka user akan di minta masukan angka baru\r\n",
    "#jika angka sama maka akan menampilkan \"tebakan kamu benar\" dan keluar dari program\r\n",
    "import random\r\n",
    "\r\n",
    "isUserCorrect = False\r\n",
    "randomNumber = random.randint(1, 10)\r\n",
    "while not isUserCorrect:\r\n",
    "    print(randomNumber)\r\n",
    "    nilaiStr = input(\"Masukan angka dari 1 sampai 10\")\r\n",
    "    if not nilaiStr.isnumeric(): break;\r\n",
    "    isUserCorrect = int(nilaiStr) == randomNumber\r\n",
    "else:\r\n",
    "    print(\"yeay anda benar\")"
   ],
   "outputs": [
    {
     "output_type": "stream",
     "name": "stdout",
     "text": [
      "1\n",
      "Masukan angka dari 1 sampai 1010\n",
      "1\n",
      "Masukan angka dari 1 sampai 10101\n",
      "1\n",
      "Masukan angka dari 1 sampai 107\n",
      "1\n"
     ]
    },
    {
     "output_type": "error",
     "ename": "KeyboardInterrupt",
     "evalue": "Interrupted by user",
     "traceback": [
      "\u001b[1;31m---------------------------------------------------------------\u001b[0m",
      "\u001b[1;31mKeyboardInterrupt\u001b[0m             Traceback (most recent call last)",
      "\u001b[1;32m<ipython-input-24-d52d3274cc31>\u001b[0m in \u001b[0;36m<module>\u001b[1;34m\u001b[0m\n\u001b[0;32m      8\u001b[0m \u001b[1;32mwhile\u001b[0m \u001b[1;32mnot\u001b[0m \u001b[0misUserCorrect\u001b[0m\u001b[1;33m:\u001b[0m\u001b[1;33m\u001b[0m\u001b[1;33m\u001b[0m\u001b[0m\n\u001b[0;32m      9\u001b[0m     \u001b[0mprint\u001b[0m\u001b[1;33m(\u001b[0m\u001b[0mrandomNumber\u001b[0m\u001b[1;33m)\u001b[0m\u001b[1;33m\u001b[0m\u001b[1;33m\u001b[0m\u001b[0m\n\u001b[1;32m---> 10\u001b[1;33m     \u001b[0mnilaiStr\u001b[0m \u001b[1;33m=\u001b[0m \u001b[0minput\u001b[0m\u001b[1;33m(\u001b[0m\u001b[1;34m\"Masukan angka dari 1 sampai 10\"\u001b[0m\u001b[1;33m)\u001b[0m\u001b[1;33m\u001b[0m\u001b[1;33m\u001b[0m\u001b[0m\n\u001b[0m\u001b[0;32m     11\u001b[0m     \u001b[1;32mif\u001b[0m \u001b[1;32mnot\u001b[0m \u001b[0mnilaiStr\u001b[0m\u001b[1;33m.\u001b[0m\u001b[0misnumeric\u001b[0m\u001b[1;33m(\u001b[0m\u001b[1;33m)\u001b[0m\u001b[1;33m:\u001b[0m \u001b[1;32mbreak\u001b[0m\u001b[1;33m;\u001b[0m\u001b[1;33m\u001b[0m\u001b[1;33m\u001b[0m\u001b[0m\n\u001b[0;32m     12\u001b[0m     \u001b[0misUserCorrect\u001b[0m \u001b[1;33m=\u001b[0m \u001b[0mint\u001b[0m\u001b[1;33m(\u001b[0m\u001b[0mnilaiStr\u001b[0m\u001b[1;33m)\u001b[0m \u001b[1;33m==\u001b[0m \u001b[0mrandomNumber\u001b[0m\u001b[1;33m\u001b[0m\u001b[1;33m\u001b[0m\u001b[0m\n",
      "\u001b[1;32m~\\anaconda3\\lib\\site-packages\\ipykernel\\kernelbase.py\u001b[0m in \u001b[0;36mraw_input\u001b[1;34m(self, prompt)\u001b[0m\n\u001b[0;32m    858\u001b[0m                 \u001b[1;34m\"raw_input was called, but this frontend does not support input requests.\"\u001b[0m\u001b[1;33m\u001b[0m\u001b[1;33m\u001b[0m\u001b[0m\n\u001b[0;32m    859\u001b[0m             )\n\u001b[1;32m--> 860\u001b[1;33m         return self._input_request(str(prompt),\n\u001b[0m\u001b[0;32m    861\u001b[0m             \u001b[0mself\u001b[0m\u001b[1;33m.\u001b[0m\u001b[0m_parent_ident\u001b[0m\u001b[1;33m,\u001b[0m\u001b[1;33m\u001b[0m\u001b[1;33m\u001b[0m\u001b[0m\n\u001b[0;32m    862\u001b[0m             \u001b[0mself\u001b[0m\u001b[1;33m.\u001b[0m\u001b[0m_parent_header\u001b[0m\u001b[1;33m,\u001b[0m\u001b[1;33m\u001b[0m\u001b[1;33m\u001b[0m\u001b[0m\n",
      "\u001b[1;32m~\\anaconda3\\lib\\site-packages\\ipykernel\\kernelbase.py\u001b[0m in \u001b[0;36m_input_request\u001b[1;34m(self, prompt, ident, parent, password)\u001b[0m\n\u001b[0;32m    902\u001b[0m             \u001b[1;32mexcept\u001b[0m \u001b[0mKeyboardInterrupt\u001b[0m\u001b[1;33m:\u001b[0m\u001b[1;33m\u001b[0m\u001b[1;33m\u001b[0m\u001b[0m\n\u001b[0;32m    903\u001b[0m                 \u001b[1;31m# re-raise KeyboardInterrupt, to truncate traceback\u001b[0m\u001b[1;33m\u001b[0m\u001b[1;33m\u001b[0m\u001b[1;33m\u001b[0m\u001b[0m\n\u001b[1;32m--> 904\u001b[1;33m                 \u001b[1;32mraise\u001b[0m \u001b[0mKeyboardInterrupt\u001b[0m\u001b[1;33m(\u001b[0m\u001b[1;34m\"Interrupted by user\"\u001b[0m\u001b[1;33m)\u001b[0m \u001b[1;32mfrom\u001b[0m \u001b[1;32mNone\u001b[0m\u001b[1;33m\u001b[0m\u001b[1;33m\u001b[0m\u001b[0m\n\u001b[0m\u001b[0;32m    905\u001b[0m             \u001b[1;32mexcept\u001b[0m \u001b[0mException\u001b[0m \u001b[1;32mas\u001b[0m \u001b[0me\u001b[0m\u001b[1;33m:\u001b[0m\u001b[1;33m\u001b[0m\u001b[1;33m\u001b[0m\u001b[0m\n\u001b[0;32m    906\u001b[0m                 \u001b[0mself\u001b[0m\u001b[1;33m.\u001b[0m\u001b[0mlog\u001b[0m\u001b[1;33m.\u001b[0m\u001b[0mwarning\u001b[0m\u001b[1;33m(\u001b[0m\u001b[1;34m\"Invalid Message:\"\u001b[0m\u001b[1;33m,\u001b[0m \u001b[0mexc_info\u001b[0m\u001b[1;33m=\u001b[0m\u001b[1;32mTrue\u001b[0m\u001b[1;33m)\u001b[0m\u001b[1;33m\u001b[0m\u001b[1;33m\u001b[0m\u001b[0m\n",
      "\u001b[1;31mKeyboardInterrupt\u001b[0m: Interrupted by user"
     ]
    }
   ],
   "metadata": {}
  },
  {
   "cell_type": "code",
   "execution_count": 26,
   "source": [
    "# python bisa nested, di dalam while terdapat while \r\n",
    "#kita mau bikin sebuah table dimensi baris 3 kolom 3,\r\n",
    "# 1 2 3 \r\n",
    "# 1 2 3\r\n",
    "# 1 2 3\r\n",
    "#i berdasarkan while terluar\r\n",
    "\r\n",
    "row = 3\r\n",
    "col = 3\r\n",
    "i = 0\r\n",
    "disp = \"\"\r\n",
    "while i < row:\r\n",
    "    j = 0\r\n",
    "    while j < col:\r\n",
    "        disp = disp + str(i) + \",\" + str(j) + \" \"\r\n",
    "        j+=1\r\n",
    "    disp += \"\\n\"\r\n",
    "    i+=1\r\n",
    "print(disp)"
   ],
   "outputs": [
    {
     "output_type": "stream",
     "name": "stdout",
     "text": [
      "0,0 0,1 0,2 \n",
      "1,0 1,1 1,2 \n",
      "2,0 2,1 2,2 \n",
      "\n"
     ]
    }
   ],
   "metadata": {}
  },
  {
   "cell_type": "code",
   "execution_count": 29,
   "source": [
    "#salah satu pertanyaan programing yg sering muncul\r\n",
    "#*\r\n",
    "#**\r\n",
    "#***\r\n",
    "#****\r\n",
    "#*****\r\n",
    "\r\n",
    "row = 5\r\n",
    "i = 0\r\n",
    "disp = \"\"\r\n",
    "while i < row:\r\n",
    "    col = i + 1\r\n",
    "    j = 0\r\n",
    "    while j < col:\r\n",
    "        disp += \"*\"\r\n",
    "        j += 1\r\n",
    "    disp += \"\\n\"\r\n",
    "    i+=1\r\n",
    "print(disp)"
   ],
   "outputs": [
    {
     "output_type": "stream",
     "name": "stdout",
     "text": [
      "*\n",
      "**\n",
      "***\n",
      "****\n",
      "*****\n",
      "\n"
     ]
    }
   ],
   "metadata": {}
  },
  {
   "cell_type": "code",
   "execution_count": 31,
   "source": [
    "# range loop\r\n",
    "myHobbies = [\"makan\", \"minum\"]\r\n",
    "\r\n",
    "for hobby in myHobbies:\r\n",
    "    print(hobby)"
   ],
   "outputs": [
    {
     "output_type": "stream",
     "name": "stdout",
     "text": [
      "makan\n",
      "minum\n"
     ]
    }
   ],
   "metadata": {}
  },
  {
   "cell_type": "code",
   "execution_count": 32,
   "source": [
    "for i in range(4):\r\n",
    "    print(\"====\", i)"
   ],
   "outputs": [
    {
     "output_type": "stream",
     "name": "stdout",
     "text": [
      "==== 0\n",
      "==== 1\n",
      "==== 2\n",
      "==== 3\n",
      "==== 4\n"
     ]
    }
   ],
   "metadata": {}
  },
  {
   "cell_type": "code",
   "execution_count": null,
   "source": [],
   "outputs": [],
   "metadata": {}
  },
  {
   "cell_type": "code",
   "execution_count": 34,
   "source": [
    "myDict = {\"nama\":\"hepiska\", \"umur\":29, \"pekerjaan\":\"coder\"}\r\n",
    "\r\n",
    "for key in myDict:\r\n",
    "    if(key == \"umur\"): break;\r\n",
    "    print(key, myDict[key])\r\n",
    "print(\"========\")\r\n",
    "\r\n",
    "forr key in myDict:\r\n",
    "    if(key == \"umur\"): continue;\r\n",
    "    print(key, myDictc[key])\r\n",
    "        "
   ],
   "outputs": [
    {
     "output_type": "error",
     "ename": "SyntaxError",
     "evalue": "invalid syntax (<ipython-input-34-60038181f3c1>, line 7)",
     "traceback": [
      "\u001b[1;36m  File \u001b[1;32m\"<ipython-input-34-60038181f3c1>\"\u001b[1;36m, line \u001b[1;32m7\u001b[0m\n\u001b[1;33m    forr key in myDict:\u001b[0m\n\u001b[1;37m         ^\u001b[0m\n\u001b[1;31mSyntaxError\u001b[0m\u001b[1;31m:\u001b[0m invalid syntax\n"
     ]
    }
   ],
   "metadata": {}
  },
  {
   "cell_type": "code",
   "execution_count": 47,
   "source": [
    "myDict = {\"hobbies\":[], \"nama\":\"\", \"umur\":\"\", \"pekerjaan\": \"\"}\r\n",
    "\r\n",
    "# masukan nama:\r\n",
    "# masukan umur:\r\n",
    "# masukan pekerjaan:\r\n",
    "# masukan hobbies:\r\n",
    "\r\n",
    "for key in myDict:\r\n",
    "    if(key == \"hobbies\"):\r\n",
    "        userInput = \"\"\r\n",
    "        while userInput != \"stop\":\r\n",
    "            userInput = input(\"masukan hobbies jika sudah masukan stop\".format(key))\r\n",
    "            myDict[key].append(userInput)\r\n",
    "    else:\r\n",
    "    userInput = input(\"masukan {} jika sudah masukan\".format(key))\r\n",
    "    myDict[key] = userInput\r\n",
    "    \r\n",
    "print(myDictt)"
   ],
   "outputs": [
    {
     "output_type": "error",
     "ename": "IndentationError",
     "evalue": "expected an indented block (<ipython-input-47-604bff3a9a2b>, line 15)",
     "traceback": [
      "\u001b[1;36m  File \u001b[1;32m\"<ipython-input-47-604bff3a9a2b>\"\u001b[1;36m, line \u001b[1;32m15\u001b[0m\n\u001b[1;33m    userInput = input(\"masukan {} jika sudah masukan\".format(key))\u001b[0m\n\u001b[1;37m    ^\u001b[0m\n\u001b[1;31mIndentationError\u001b[0m\u001b[1;31m:\u001b[0m expected an indented block\n"
     ]
    }
   ],
   "metadata": {}
  },
  {
   "cell_type": "code",
   "execution_count": null,
   "source": [
    "for key in myDict:\r\n",
    "    if(key == \"hobbies\"):\r\n",
    "        userInput = []\r\n",
    "        while userInput != \"stop\":\r\n",
    "            print(myDict)\r\n",
    "            print(\"userInput1\", userInput)"
   ],
   "outputs": [],
   "metadata": {}
  },
  {
   "cell_type": "code",
   "execution_count": 2,
   "source": [
    "for i in range(7):\r\n",
    "    print(i)"
   ],
   "outputs": [
    {
     "output_type": "stream",
     "name": "stdout",
     "text": [
      "0\n",
      "1\n",
      "2\n",
      "3\n",
      "4\n",
      "5\n",
      "6\n"
     ]
    }
   ],
   "metadata": {}
  },
  {
   "cell_type": "code",
   "execution_count": null,
   "source": [],
   "outputs": [],
   "metadata": {}
  }
 ],
 "metadata": {
  "kernelspec": {
   "name": "python3",
   "display_name": "Python 3.8.11 64-bit ('OpenCV': conda)"
  },
  "language_info": {
   "codemirror_mode": {
    "name": "ipython",
    "version": 3
   },
   "file_extension": ".py",
   "mimetype": "text/x-python",
   "name": "python",
   "nbconvert_exporter": "python",
   "pygments_lexer": "ipython3",
   "version": "3.8.11"
  },
  "toc": {
   "base_numbering": 1,
   "nav_menu": {},
   "number_sections": true,
   "sideBar": true,
   "skip_h1_title": false,
   "title_cell": "Table of Contents",
   "title_sidebar": "Contents",
   "toc_cell": false,
   "toc_position": {},
   "toc_section_display": true,
   "toc_window_display": false
  },
  "interpreter": {
   "hash": "a97c2c7cb02b836bea881ca1d1f13c8f11ea17795f93762d51e46b14c19721a9"
  }
 },
 "nbformat": 4,
 "nbformat_minor": 5
}