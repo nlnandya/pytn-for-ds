{
 "cells": [
  {
   "cell_type": "code",
   "execution_count": 1,
   "id": "04101f53",
   "metadata": {},
   "outputs": [
    {
     "name": "stdout",
     "output_type": "stream",
     "text": [
      "out of scope\n",
      "function test\n",
      "sasa\n"
     ]
    }
   ],
   "source": [
    "#definisi function\n",
    "def functiontest ():\n",
    "    print(\"function test\")\n",
    "    print(\"sasa\")\n",
    "print(\"out of scope\")\n",
    "functiontest()"
   ]
  },
  {
   "cell_type": "code",
   "execution_count": 2,
   "id": "80e433ef",
   "metadata": {},
   "outputs": [
    {
     "name": "stdout",
     "output_type": "stream",
     "text": [
      "1\n",
      "2.0\n"
     ]
    }
   ],
   "source": [
    "#type data number: int, float\n",
    "myInt = 1\n",
    "myFloat = 1.0\n",
    "\n",
    "print(myInt)\n",
    "print(myFloat + myInt)"
   ]
  },
  {
   "cell_type": "code",
   "execution_count": 3,
   "id": "b0057aff",
   "metadata": {},
   "outputs": [
    {
     "name": "stdout",
     "output_type": "stream",
     "text": [
      "<class 'int'>\n"
     ]
    }
   ],
   "source": [
    "#cek tipe data\n",
    "type(myFloat)\n",
    "type(myInt)\n",
    "print(type(myInt))"
   ]
  },
  {
   "cell_type": "code",
   "execution_count": 4,
   "id": "2810df0d",
   "metadata": {},
   "outputs": [
    {
     "name": "stdout",
     "output_type": "stream",
     "text": [
      "this is my string\n"
     ]
    }
   ],
   "source": [
    "#string\n",
    "myString = \"this is my string\"\n",
    "print(myInt * myString)"
   ]
  },
  {
   "cell_type": "code",
   "execution_count": 5,
   "id": "44a2b755",
   "metadata": {},
   "outputs": [
    {
     "name": "stdout",
     "output_type": "stream",
     "text": [
      "<class 'bool'>\n",
      "<class 'bool'>\n"
     ]
    }
   ],
   "source": [
    "#boolean\n",
    "myBool = False\n",
    "\n",
    "myCompare = myInt == myFloat\n",
    "\n",
    "print(type(myBool))\n",
    "print(type(myCompare))"
   ]
  },
  {
   "cell_type": "code",
   "execution_count": 6,
   "id": "e7f965ba",
   "metadata": {},
   "outputs": [
    {
     "name": "stdout",
     "output_type": "stream",
     "text": [
      "6 6 6 6\n"
     ]
    }
   ],
   "source": [
    "a = b = c = d = 6\n",
    "print(a,b,c,d)"
   ]
  },
  {
   "cell_type": "code",
   "execution_count": 7,
   "id": "9d0f2c88",
   "metadata": {},
   "outputs": [
    {
     "name": "stdout",
     "output_type": "stream",
     "text": [
      "1 2\n"
     ]
    }
   ],
   "source": [
    "a,b = [1, 2]\n",
    "print(a, b)"
   ]
  },
  {
   "cell_type": "code",
   "execution_count": 8,
   "id": "7f356b13",
   "metadata": {},
   "outputs": [
    {
     "data": {
      "text/plain": [
       "'\\n1. myChildAge = \"camel case\"\\n2. MyChildAge = \"pascal case\"\\n3. my_child_age = \"snake case\"\\n'"
      ]
     },
     "execution_count": 8,
     "metadata": {},
     "output_type": "execute_result"
    }
   ],
   "source": [
    "#Penamaan variabel, tidak berawalan angkal\n",
    "myVariable = \"ini my variable\"\n",
    "\n",
    "#kesepakatan untuk penamaan variable \n",
    "#harus nunjukin maksudnya apa, tidak boleh a b i j\n",
    "\n",
    "#ada 3 cara misahin suku kata\n",
    "\"\"\"\n",
    "1. myChildAge = \"camel case\"\n",
    "2. MyChildAge = \"pascal case\"\n",
    "3. my_child_age = \"snake case\"\n",
    "\"\"\""
   ]
  },
  {
   "cell_type": "code",
   "execution_count": 9,
   "id": "c442a707",
   "metadata": {},
   "outputs": [
    {
     "name": "stdout",
     "output_type": "stream",
     "text": [
      "13\n",
      "7\n",
      "30\n",
      "3.3333333333333335\n",
      "1\n",
      "1000\n"
     ]
    }
   ],
   "source": [
    "#operator\n",
    "myFirstNumber = 10\n",
    "mySecondNumber = 3\n",
    "\n",
    "print(myFirstNumber+ mySecondNumber)\n",
    "print(myFirstNumber- mySecondNumber)\n",
    "print(myFirstNumber* mySecondNumber)\n",
    "print(myFirstNumber/ mySecondNumber)\n",
    "print(myFirstNumber % mySecondNumber)\n",
    "print(myFirstNumber ** mySecondNumber)"
   ]
  },
  {
   "cell_type": "code",
   "execution_count": 10,
   "id": "5ccda0d3",
   "metadata": {},
   "outputs": [
    {
     "name": "stdout",
     "output_type": "stream",
     "text": [
      "helloname\n"
     ]
    }
   ],
   "source": [
    "hello = \"hello\"\n",
    "name = \"name\"\n",
    "name2 = \"name\"\n",
    "\n",
    "print(hello + name)\n"
   ]
  },
  {
   "cell_type": "code",
   "execution_count": 11,
   "id": "1affead5",
   "metadata": {},
   "outputs": [
    {
     "name": "stdout",
     "output_type": "stream",
     "text": [
      "False\n",
      "True\n",
      "False\n",
      "True\n",
      "False\n",
      "True\n",
      "False\n",
      "name and name2 have same value\n"
     ]
    }
   ],
   "source": [
    "print(hello == name)\n",
    "print(name2 == name)\n",
    "print(name2 > name)\n",
    "print(name2 >= name)\n",
    "print(name2 != name)\n",
    "print(name2 <= name)\n",
    "print(name2 < name)\n",
    "\n",
    "isSameName = name == name2\n",
    "if(isSameName):\n",
    "    print(\"name and name2 have same value\")"
   ]
  },
  {
   "cell_type": "code",
   "execution_count": 12,
   "id": "b5862828",
   "metadata": {},
   "outputs": [],
   "source": [
    "mytestVar = 1 "
   ]
  },
  {
   "cell_type": "code",
   "execution_count": 13,
   "id": "89bcfb9b",
   "metadata": {},
   "outputs": [],
   "source": [
    "#default method \n",
    "# ->>> mySecondNumber."
   ]
  },
  {
   "cell_type": "code",
   "execution_count": 14,
   "id": "d81210cb",
   "metadata": {},
   "outputs": [
    {
     "data": {
      "text/plain": [
       "'1'"
      ]
     },
     "execution_count": 14,
     "metadata": {},
     "output_type": "execute_result"
    }
   ],
   "source": [
    "#default function\n",
    "str(mytestVar)"
   ]
  },
  {
   "cell_type": "code",
   "execution_count": 15,
   "id": "26fdd966",
   "metadata": {},
   "outputs": [],
   "source": [
    "myTestString = \"nama saya budi\"\n"
   ]
  },
  {
   "cell_type": "code",
   "execution_count": 16,
   "id": "105ef346",
   "metadata": {},
   "outputs": [
    {
     "data": {
      "text/plain": [
       "'Nama saya budi'"
      ]
     },
     "execution_count": 16,
     "metadata": {},
     "output_type": "execute_result"
    }
   ],
   "source": [
    "#method bawaan dr string\n",
    "myTestString.capitalize()"
   ]
  },
  {
   "cell_type": "code",
   "execution_count": 17,
   "id": "189585ca",
   "metadata": {},
   "outputs": [
    {
     "data": {
      "text/plain": [
       "'nama saya budi'"
      ]
     },
     "execution_count": 17,
     "metadata": {},
     "output_type": "execute_result"
    }
   ],
   "source": [
    "myTestString"
   ]
  },
  {
   "cell_type": "code",
   "execution_count": 18,
   "id": "85d32032",
   "metadata": {},
   "outputs": [
    {
     "name": "stdout",
     "output_type": "stream",
     "text": [
      "['nama', 'saya', 'budi']\n",
      "nama saya budi\n"
     ]
    }
   ],
   "source": [
    "myModifyStr = myTestString.split(' ')\n",
    "print(myModifyStr)\n",
    "print(myTestString)"
   ]
  },
  {
   "cell_type": "code",
   "execution_count": 19,
   "id": "bbdb4d2b",
   "metadata": {},
   "outputs": [
    {
     "name": "stdout",
     "output_type": "stream",
     "text": [
      "enter name:\n",
      "my name is  \n"
     ]
    }
   ],
   "source": [
    "myName = input(\"enter name:\")\n",
    "print(\"my name is \", myName)"
   ]
  },
  {
   "cell_type": "code",
   "execution_count": 20,
   "id": "6b5ee711",
   "metadata": {},
   "outputs": [
    {
     "name": "stdout",
     "output_type": "stream",
     "text": [
      "[1, 2, 3, 4, 5, 6, 7, 8, 9]\n"
     ]
    }
   ],
   "source": [
    "#List\n",
    "myList = [1,2,3,4,5,6,7,8,9]\n",
    "print(myList)"
   ]
  },
  {
   "cell_type": "code",
   "execution_count": 21,
   "id": "f3efb2d9",
   "metadata": {},
   "outputs": [
    {
     "name": "stdout",
     "output_type": "stream",
     "text": [
      "False\n"
     ]
    }
   ],
   "source": [
    "myList2 = [2,1,3,4,5,6,7,8,9,10]\n",
    "print(myList == myList2)"
   ]
  },
  {
   "cell_type": "code",
   "execution_count": 22,
   "id": "708550a7",
   "metadata": {},
   "outputs": [
    {
     "name": "stdout",
     "output_type": "stream",
     "text": [
      "2\n"
     ]
    }
   ],
   "source": [
    "print(myList2[0])"
   ]
  },
  {
   "cell_type": "code",
   "execution_count": 23,
   "id": "631a22d5",
   "metadata": {},
   "outputs": [
    {
     "name": "stdout",
     "output_type": "stream",
     "text": [
      "10\n"
     ]
    }
   ],
   "source": [
    "print(myList2[-1])"
   ]
  },
  {
   "cell_type": "code",
   "execution_count": 24,
   "id": "a113be51",
   "metadata": {},
   "outputs": [],
   "source": [
    "myList2 = [1, \"dua\", 3, \"empat\"]\n",
    "myList2 = [1,[2],[3, 4]]"
   ]
  },
  {
   "cell_type": "code",
   "execution_count": 25,
   "id": "ca5cef0e",
   "metadata": {},
   "outputs": [
    {
     "data": {
      "text/plain": [
       "[2]"
      ]
     },
     "execution_count": 25,
     "metadata": {},
     "output_type": "execute_result"
    }
   ],
   "source": [
    "myList2[1]"
   ]
  },
  {
   "cell_type": "code",
   "execution_count": 26,
   "id": "b389448c",
   "metadata": {},
   "outputs": [
    {
     "data": {
      "text/plain": [
       "4"
      ]
     },
     "execution_count": 26,
     "metadata": {},
     "output_type": "execute_result"
    }
   ],
   "source": [
    "my3List = myList2[2]\n",
    "my3List[1]"
   ]
  },
  {
   "cell_type": "code",
   "execution_count": 27,
   "id": "72a92960",
   "metadata": {},
   "outputs": [
    {
     "name": "stdout",
     "output_type": "stream",
     "text": [
      "[1, [2], [3, 4], 3, 4]\n"
     ]
    }
   ],
   "source": [
    "print(myList2 + my3List)"
   ]
  },
  {
   "cell_type": "code",
   "execution_count": 28,
   "id": "ed5f4012",
   "metadata": {},
   "outputs": [
    {
     "name": "stdout",
     "output_type": "stream",
     "text": [
      "[1, [2], [3, 4], 1, [2], [3, 4]]\n"
     ]
    }
   ],
   "source": [
    "print(myList2 * 2)"
   ]
  },
  {
   "cell_type": "code",
   "execution_count": 29,
   "id": "f4f82a92",
   "metadata": {},
   "outputs": [
    {
     "name": "stdout",
     "output_type": "stream",
     "text": [
      "None\n"
     ]
    }
   ],
   "source": [
    "print(my3List.sort())"
   ]
  },
  {
   "cell_type": "code",
   "execution_count": 30,
   "id": "8d1c09e5",
   "metadata": {},
   "outputs": [
    {
     "data": {
      "text/plain": [
       "1"
      ]
     },
     "execution_count": 30,
     "metadata": {},
     "output_type": "execute_result"
    }
   ],
   "source": [
    "myUpsideList = [10, 9, 8]\n",
    "myUpsideList.sort()\n",
    "myUpsideList.count(9)"
   ]
  },
  {
   "cell_type": "code",
   "execution_count": 31,
   "id": "3463df5b",
   "metadata": {},
   "outputs": [
    {
     "data": {
      "text/plain": [
       "3"
      ]
     },
     "execution_count": 31,
     "metadata": {},
     "output_type": "execute_result"
    }
   ],
   "source": [
    "len(myUpsideList)"
   ]
  },
  {
   "cell_type": "code",
   "execution_count": 32,
   "id": "ce85c431",
   "metadata": {},
   "outputs": [
    {
     "name": "stdout",
     "output_type": "stream",
     "text": [
      "8\n",
      "10\n",
      "[8, 9, 10]\n"
     ]
    }
   ],
   "source": [
    "print(min(myUpsideList))\n",
    "print(max(myUpsideList))\n",
    "print(myUpsideList)"
   ]
  },
  {
   "cell_type": "code",
   "execution_count": 33,
   "id": "e48f9674",
   "metadata": {},
   "outputs": [
    {
     "name": "stdout",
     "output_type": "stream",
     "text": [
      "[10, 9, 8, 6]\n"
     ]
    }
   ],
   "source": [
    "#manipulate list value\n",
    "myUpsideList = [10, 9, 8]\n",
    "myUpsideList.append(6)\n",
    "print(myUpsideList)"
   ]
  },
  {
   "cell_type": "code",
   "execution_count": 34,
   "id": "19a3287a",
   "metadata": {},
   "outputs": [],
   "source": [
    "myUpsideList[3]=7"
   ]
  },
  {
   "cell_type": "code",
   "execution_count": 35,
   "id": "47a6fbc3",
   "metadata": {},
   "outputs": [
    {
     "data": {
      "text/plain": [
       "[10, 9, 8, 7]"
      ]
     },
     "execution_count": 35,
     "metadata": {},
     "output_type": "execute_result"
    }
   ],
   "source": [
    "myUpsideList"
   ]
  },
  {
   "cell_type": "code",
   "execution_count": 36,
   "id": "e2823863",
   "metadata": {},
   "outputs": [
    {
     "data": {
      "text/plain": [
       "[10, 9, 8, 7, 6]"
      ]
     },
     "execution_count": 36,
     "metadata": {},
     "output_type": "execute_result"
    }
   ],
   "source": [
    "myList = [10, 9, 8, 6, 7]\n",
    "existVal = myList[3]\n",
    "myList[3] = myList[4]\n",
    "myList[4] = existVal\n",
    "\n",
    "myList"
   ]
  },
  {
   "cell_type": "code",
   "execution_count": 37,
   "id": "2a04643b",
   "metadata": {},
   "outputs": [
    {
     "data": {
      "text/plain": [
       "[10, 2, 3, 4, 5, 6]"
      ]
     },
     "execution_count": 37,
     "metadata": {},
     "output_type": "execute_result"
    }
   ],
   "source": [
    "myList[1:4] = [2, 3, 4, 5]\n",
    "myList"
   ]
  },
  {
   "cell_type": "code",
   "execution_count": 38,
   "id": "8ed54778",
   "metadata": {},
   "outputs": [
    {
     "data": {
      "text/plain": [
       "(1, 3, 4, 5, 6)"
      ]
     },
     "execution_count": 38,
     "metadata": {},
     "output_type": "execute_result"
    }
   ],
   "source": [
    "#Tuple -> dia imutable\n",
    "myTuple = (1,3,4,5,6)\n",
    "myTuple"
   ]
  },
  {
   "cell_type": "code",
   "execution_count": 39,
   "id": "8e38f36e",
   "metadata": {},
   "outputs": [
    {
     "data": {
      "text/plain": [
       "1"
      ]
     },
     "execution_count": 39,
     "metadata": {},
     "output_type": "execute_result"
    }
   ],
   "source": [
    "myTuple.count(4)"
   ]
  },
  {
   "cell_type": "code",
   "execution_count": 40,
   "id": "f10ccbb8",
   "metadata": {},
   "outputs": [
    {
     "data": {
      "text/plain": [
       "1"
      ]
     },
     "execution_count": 40,
     "metadata": {},
     "output_type": "execute_result"
    }
   ],
   "source": [
    "myTuple.count(3)"
   ]
  },
  {
   "cell_type": "code",
   "execution_count": 41,
   "id": "a7457307",
   "metadata": {},
   "outputs": [
    {
     "data": {
      "text/plain": [
       "{'name': 'nan', 'age': 21, 'hobbies': ['sing', 'code']}"
      ]
     },
     "execution_count": 41,
     "metadata": {},
     "output_type": "execute_result"
    }
   ],
   "source": [
    "#dictionary atau map -> based on key and value\n",
    "aboutMe = {\"name\":\"nan\", \"age\":21, \"hobbies\":[\"sing\", \"code\"]}\n",
    "aboutMe"
   ]
  },
  {
   "cell_type": "code",
   "execution_count": 42,
   "id": "fbb0734b",
   "metadata": {},
   "outputs": [
    {
     "data": {
      "text/plain": [
       "'nan'"
      ]
     },
     "execution_count": 42,
     "metadata": {},
     "output_type": "execute_result"
    }
   ],
   "source": [
    "aboutMe[name]"
   ]
  },
  {
   "cell_type": "code",
   "execution_count": 43,
   "id": "0ea9f828",
   "metadata": {},
   "outputs": [],
   "source": [
    "aboutMe[\"ocupancie\"] = \"TL\""
   ]
  },
  {
   "cell_type": "code",
   "execution_count": 44,
   "id": "62983a0b",
   "metadata": {},
   "outputs": [
    {
     "data": {
      "text/plain": [
       "{'name': 'nan', 'age': 21, 'hobbies': ['sing', 'code'], 'ocupancie': 'TL'}"
      ]
     },
     "execution_count": 44,
     "metadata": {},
     "output_type": "execute_result"
    }
   ],
   "source": [
    "aboutMe"
   ]
  },
  {
   "cell_type": "code",
   "execution_count": 45,
   "id": "a251edeb",
   "metadata": {},
   "outputs": [
    {
     "data": {
      "text/plain": [
       "'code'"
      ]
     },
     "execution_count": 45,
     "metadata": {},
     "output_type": "execute_result"
    }
   ],
   "source": [
    "#ambil hobbie\n",
    "aboutMe[\"hobbies\"][1]"
   ]
  },
  {
   "cell_type": "code",
   "execution_count": 46,
   "id": "36f808aa",
   "metadata": {},
   "outputs": [
    {
     "name": "stdout",
     "output_type": "stream",
     "text": [
      "{'name': 'nan', 'age': 21, 'hobbies': ['is', 'code'], 'ocupancie': 'TL'}\n"
     ]
    }
   ],
   "source": [
    "aboutMe[\"hobbies\"][0] = \"is\"\n",
    "print(aboutMe)"
   ]
  },
  {
   "cell_type": "code",
   "execution_count": null,
   "id": "3869386f",
   "metadata": {},
   "outputs": [],
   "source": []
  }
 ],
 "metadata": {
  "kernelspec": {
   "display_name": "Python 3",
   "language": "python",
   "name": "python3"
  },
  "language_info": {
   "codemirror_mode": {
    "name": "ipython",
    "version": 3
   },
   "file_extension": ".py",
   "mimetype": "text/x-python",
   "name": "python",
   "nbconvert_exporter": "python",
   "pygments_lexer": "ipython3",
   "version": "3.8.8"
  },
  "toc": {
   "base_numbering": 1,
   "nav_menu": {},
   "number_sections": true,
   "sideBar": true,
   "skip_h1_title": false,
   "title_cell": "Table of Contents",
   "title_sidebar": "Contents",
   "toc_cell": false,
   "toc_position": {},
   "toc_section_display": true,
   "toc_window_display": false
  }
 },
 "nbformat": 4,
 "nbformat_minor": 5
}
