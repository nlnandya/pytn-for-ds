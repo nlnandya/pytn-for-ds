{
 "cells": [
  {
   "cell_type": "code",
   "execution_count": 1,
   "id": "095edac7",
   "metadata": {},
   "outputs": [],
   "source": [
    "import pandas as pd\n",
    "import matplotlib.pyplot as plt\n",
    "from sklearn.linear_model import LinearRegression\n",
    "from sklearn.model_selection import train_test_split\n",
    "\n",
    "df = pd.read_csv(\"CarPrice_Assignment.csv\", usecols=[\"horsepower\", \"price\"])"
   ]
  },
  {
   "cell_type": "code",
   "execution_count": 2,
   "id": "ea1877a1",
   "metadata": {},
   "outputs": [
    {
     "data": {
      "text/html": [
       "<div>\n",
       "<style scoped>\n",
       "    .dataframe tbody tr th:only-of-type {\n",
       "        vertical-align: middle;\n",
       "    }\n",
       "\n",
       "    .dataframe tbody tr th {\n",
       "        vertical-align: top;\n",
       "    }\n",
       "\n",
       "    .dataframe thead th {\n",
       "        text-align: right;\n",
       "    }\n",
       "</style>\n",
       "<table border=\"1\" class=\"dataframe\">\n",
       "  <thead>\n",
       "    <tr style=\"text-align: right;\">\n",
       "      <th></th>\n",
       "      <th>horsepower</th>\n",
       "      <th>price</th>\n",
       "    </tr>\n",
       "  </thead>\n",
       "  <tbody>\n",
       "    <tr>\n",
       "      <th>0</th>\n",
       "      <td>111</td>\n",
       "      <td>13495.0</td>\n",
       "    </tr>\n",
       "    <tr>\n",
       "      <th>1</th>\n",
       "      <td>111</td>\n",
       "      <td>16500.0</td>\n",
       "    </tr>\n",
       "    <tr>\n",
       "      <th>2</th>\n",
       "      <td>154</td>\n",
       "      <td>16500.0</td>\n",
       "    </tr>\n",
       "    <tr>\n",
       "      <th>3</th>\n",
       "      <td>102</td>\n",
       "      <td>13950.0</td>\n",
       "    </tr>\n",
       "    <tr>\n",
       "      <th>4</th>\n",
       "      <td>115</td>\n",
       "      <td>17450.0</td>\n",
       "    </tr>\n",
       "    <tr>\n",
       "      <th>...</th>\n",
       "      <td>...</td>\n",
       "      <td>...</td>\n",
       "    </tr>\n",
       "    <tr>\n",
       "      <th>200</th>\n",
       "      <td>114</td>\n",
       "      <td>16845.0</td>\n",
       "    </tr>\n",
       "    <tr>\n",
       "      <th>201</th>\n",
       "      <td>160</td>\n",
       "      <td>19045.0</td>\n",
       "    </tr>\n",
       "    <tr>\n",
       "      <th>202</th>\n",
       "      <td>134</td>\n",
       "      <td>21485.0</td>\n",
       "    </tr>\n",
       "    <tr>\n",
       "      <th>203</th>\n",
       "      <td>106</td>\n",
       "      <td>22470.0</td>\n",
       "    </tr>\n",
       "    <tr>\n",
       "      <th>204</th>\n",
       "      <td>114</td>\n",
       "      <td>22625.0</td>\n",
       "    </tr>\n",
       "  </tbody>\n",
       "</table>\n",
       "<p>205 rows × 2 columns</p>\n",
       "</div>"
      ],
      "text/plain": [
       "     horsepower    price\n",
       "0           111  13495.0\n",
       "1           111  16500.0\n",
       "2           154  16500.0\n",
       "3           102  13950.0\n",
       "4           115  17450.0\n",
       "..          ...      ...\n",
       "200         114  16845.0\n",
       "201         160  19045.0\n",
       "202         134  21485.0\n",
       "203         106  22470.0\n",
       "204         114  22625.0\n",
       "\n",
       "[205 rows x 2 columns]"
      ]
     },
     "execution_count": 2,
     "metadata": {},
     "output_type": "execute_result"
    }
   ],
   "source": [
    "df"
   ]
  },
  {
   "cell_type": "code",
   "execution_count": 3,
   "id": "efc75cc0",
   "metadata": {},
   "outputs": [],
   "source": [
    "x = df[\"horsepower\"].values.reshape(-1,1)\n",
    "y = df[\"price\"].values.reshape(-1,1)"
   ]
  },
  {
   "cell_type": "code",
   "execution_count": 5,
   "id": "1439d042",
   "metadata": {},
   "outputs": [
    {
     "data": {
      "text/plain": [
       "array([[13495.   ],\n",
       "       [16500.   ],\n",
       "       [16500.   ],\n",
       "       [13950.   ],\n",
       "       [17450.   ],\n",
       "       [15250.   ],\n",
       "       [17710.   ],\n",
       "       [18920.   ],\n",
       "       [23875.   ],\n",
       "       [17859.167],\n",
       "       [16430.   ],\n",
       "       [16925.   ],\n",
       "       [20970.   ],\n",
       "       [21105.   ],\n",
       "       [24565.   ],\n",
       "       [30760.   ],\n",
       "       [41315.   ],\n",
       "       [36880.   ],\n",
       "       [ 5151.   ],\n",
       "       [ 6295.   ],\n",
       "       [ 6575.   ],\n",
       "       [ 5572.   ],\n",
       "       [ 6377.   ],\n",
       "       [ 7957.   ],\n",
       "       [ 6229.   ],\n",
       "       [ 6692.   ],\n",
       "       [ 7609.   ],\n",
       "       [ 8558.   ],\n",
       "       [ 8921.   ],\n",
       "       [12964.   ],\n",
       "       [ 6479.   ],\n",
       "       [ 6855.   ],\n",
       "       [ 5399.   ],\n",
       "       [ 6529.   ],\n",
       "       [ 7129.   ],\n",
       "       [ 7295.   ],\n",
       "       [ 7295.   ],\n",
       "       [ 7895.   ],\n",
       "       [ 9095.   ],\n",
       "       [ 8845.   ],\n",
       "       [10295.   ],\n",
       "       [12945.   ],\n",
       "       [10345.   ],\n",
       "       [ 6785.   ],\n",
       "       [ 8916.5  ],\n",
       "       [ 8916.5  ],\n",
       "       [11048.   ],\n",
       "       [32250.   ],\n",
       "       [35550.   ],\n",
       "       [36000.   ],\n",
       "       [ 5195.   ],\n",
       "       [ 6095.   ],\n",
       "       [ 6795.   ],\n",
       "       [ 6695.   ],\n",
       "       [ 7395.   ],\n",
       "       [10945.   ],\n",
       "       [11845.   ],\n",
       "       [13645.   ],\n",
       "       [15645.   ],\n",
       "       [ 8845.   ],\n",
       "       [ 8495.   ],\n",
       "       [10595.   ],\n",
       "       [10245.   ],\n",
       "       [10795.   ],\n",
       "       [11245.   ],\n",
       "       [18280.   ],\n",
       "       [18344.   ],\n",
       "       [25552.   ],\n",
       "       [28248.   ],\n",
       "       [28176.   ],\n",
       "       [31600.   ],\n",
       "       [34184.   ],\n",
       "       [35056.   ],\n",
       "       [40960.   ],\n",
       "       [45400.   ],\n",
       "       [16503.   ],\n",
       "       [ 5389.   ],\n",
       "       [ 6189.   ],\n",
       "       [ 6669.   ],\n",
       "       [ 7689.   ],\n",
       "       [ 9959.   ],\n",
       "       [ 8499.   ],\n",
       "       [12629.   ],\n",
       "       [14869.   ],\n",
       "       [14489.   ],\n",
       "       [ 6989.   ],\n",
       "       [ 8189.   ],\n",
       "       [ 9279.   ],\n",
       "       [ 9279.   ],\n",
       "       [ 5499.   ],\n",
       "       [ 7099.   ],\n",
       "       [ 6649.   ],\n",
       "       [ 6849.   ],\n",
       "       [ 7349.   ],\n",
       "       [ 7299.   ],\n",
       "       [ 7799.   ],\n",
       "       [ 7499.   ],\n",
       "       [ 7999.   ],\n",
       "       [ 8249.   ],\n",
       "       [ 8949.   ],\n",
       "       [ 9549.   ],\n",
       "       [13499.   ],\n",
       "       [14399.   ],\n",
       "       [13499.   ],\n",
       "       [17199.   ],\n",
       "       [19699.   ],\n",
       "       [18399.   ],\n",
       "       [11900.   ],\n",
       "       [13200.   ],\n",
       "       [12440.   ],\n",
       "       [13860.   ],\n",
       "       [15580.   ],\n",
       "       [16900.   ],\n",
       "       [16695.   ],\n",
       "       [17075.   ],\n",
       "       [16630.   ],\n",
       "       [17950.   ],\n",
       "       [18150.   ],\n",
       "       [ 5572.   ],\n",
       "       [ 7957.   ],\n",
       "       [ 6229.   ],\n",
       "       [ 6692.   ],\n",
       "       [ 7609.   ],\n",
       "       [ 8921.   ],\n",
       "       [12764.   ],\n",
       "       [22018.   ],\n",
       "       [32528.   ],\n",
       "       [34028.   ],\n",
       "       [37028.   ],\n",
       "       [31400.5  ],\n",
       "       [ 9295.   ],\n",
       "       [ 9895.   ],\n",
       "       [11850.   ],\n",
       "       [12170.   ],\n",
       "       [15040.   ],\n",
       "       [15510.   ],\n",
       "       [18150.   ],\n",
       "       [18620.   ],\n",
       "       [ 5118.   ],\n",
       "       [ 7053.   ],\n",
       "       [ 7603.   ],\n",
       "       [ 7126.   ],\n",
       "       [ 7775.   ],\n",
       "       [ 9960.   ],\n",
       "       [ 9233.   ],\n",
       "       [11259.   ],\n",
       "       [ 7463.   ],\n",
       "       [10198.   ],\n",
       "       [ 8013.   ],\n",
       "       [11694.   ],\n",
       "       [ 5348.   ],\n",
       "       [ 6338.   ],\n",
       "       [ 6488.   ],\n",
       "       [ 6918.   ],\n",
       "       [ 7898.   ],\n",
       "       [ 8778.   ],\n",
       "       [ 6938.   ],\n",
       "       [ 7198.   ],\n",
       "       [ 7898.   ],\n",
       "       [ 7788.   ],\n",
       "       [ 7738.   ],\n",
       "       [ 8358.   ],\n",
       "       [ 9258.   ],\n",
       "       [ 8058.   ],\n",
       "       [ 8238.   ],\n",
       "       [ 9298.   ],\n",
       "       [ 9538.   ],\n",
       "       [ 8449.   ],\n",
       "       [ 9639.   ],\n",
       "       [ 9989.   ],\n",
       "       [11199.   ],\n",
       "       [11549.   ],\n",
       "       [17669.   ],\n",
       "       [ 8948.   ],\n",
       "       [10698.   ],\n",
       "       [ 9988.   ],\n",
       "       [10898.   ],\n",
       "       [11248.   ],\n",
       "       [16558.   ],\n",
       "       [15998.   ],\n",
       "       [15690.   ],\n",
       "       [15750.   ],\n",
       "       [ 7775.   ],\n",
       "       [ 7975.   ],\n",
       "       [ 7995.   ],\n",
       "       [ 8195.   ],\n",
       "       [ 8495.   ],\n",
       "       [ 9495.   ],\n",
       "       [ 9995.   ],\n",
       "       [11595.   ],\n",
       "       [ 9980.   ],\n",
       "       [13295.   ],\n",
       "       [13845.   ],\n",
       "       [12290.   ],\n",
       "       [12940.   ],\n",
       "       [13415.   ],\n",
       "       [15985.   ],\n",
       "       [16515.   ],\n",
       "       [18420.   ],\n",
       "       [18950.   ],\n",
       "       [16845.   ],\n",
       "       [19045.   ],\n",
       "       [21485.   ],\n",
       "       [22470.   ],\n",
       "       [22625.   ]])"
      ]
     },
     "execution_count": 5,
     "metadata": {},
     "output_type": "execute_result"
    }
   ],
   "source": [
    "y"
   ]
  },
  {
   "cell_type": "code",
   "execution_count": 91,
   "id": "4013235b",
   "metadata": {},
   "outputs": [],
   "source": [
    "x_train, x_test, y_train, y_test = train_test_split(x, y, test_size=0.2)"
   ]
  },
  {
   "cell_type": "code",
   "execution_count": 92,
   "id": "cf106e10",
   "metadata": {},
   "outputs": [
    {
     "data": {
      "text/plain": [
       "(164, 1)"
      ]
     },
     "execution_count": 92,
     "metadata": {},
     "output_type": "execute_result"
    }
   ],
   "source": [
    "x_train.shape"
   ]
  },
  {
   "cell_type": "code",
   "execution_count": 93,
   "id": "0ec43fd6",
   "metadata": {},
   "outputs": [
    {
     "data": {
      "text/plain": [
       "(41, 1)"
      ]
     },
     "execution_count": 93,
     "metadata": {},
     "output_type": "execute_result"
    }
   ],
   "source": [
    "x_test.shape"
   ]
  },
  {
   "cell_type": "code",
   "execution_count": 94,
   "id": "8d939dcc",
   "metadata": {},
   "outputs": [
    {
     "data": {
      "text/plain": [
       "LinearRegression()"
      ]
     },
     "execution_count": 94,
     "metadata": {},
     "output_type": "execute_result"
    }
   ],
   "source": [
    "#melatih model\n",
    "lin_reg = LinearRegression()\n",
    "lin_reg.fit(x_train, y_train)"
   ]
  },
  {
   "cell_type": "code",
   "execution_count": 95,
   "id": "8441a192",
   "metadata": {},
   "outputs": [
    {
     "data": {
      "text/plain": [
       "LinearRegression()"
      ]
     },
     "execution_count": 95,
     "metadata": {},
     "output_type": "execute_result"
    }
   ],
   "source": [
    "LinearRegression(copy_X=True, fit_intercept=True, n_jobs=None, normalize=False)"
   ]
  },
  {
   "cell_type": "code",
   "execution_count": 96,
   "id": "626a188d",
   "metadata": {},
   "outputs": [
    {
     "name": "stdout",
     "output_type": "stream",
     "text": [
      "[[165.83111921]]\n",
      "[-4088.75792538]\n"
     ]
    }
   ],
   "source": [
    "print(lin_reg.coef_) #coef_ adalah array\n",
    "print(lin_reg.intercept_) #intercept adalah skalar"
   ]
  },
  {
   "cell_type": "code",
   "execution_count": 97,
   "id": "275fbfd5",
   "metadata": {},
   "outputs": [
    {
     "data": {
      "text/plain": [
       "0.7123169764593377"
      ]
     },
     "execution_count": 97,
     "metadata": {},
     "output_type": "execute_result"
    }
   ],
   "source": [
    "lin_reg.score(x_test, y_test)"
   ]
  },
  {
   "cell_type": "code",
   "execution_count": 98,
   "id": "655b3c68",
   "metadata": {},
   "outputs": [
    {
     "data": {
      "text/plain": [
       "Text(0.5, 1.0, 'Plot Horsepower vs Price')"
      ]
     },
     "execution_count": 98,
     "metadata": {},
     "output_type": "execute_result"
    },
    {
     "data": {
      "image/png": "[encoded data removed]",
      "text/plain": [
       "<Figure size 432x288 with 1 Axes>"
      ]
     },
     "metadata": {
      "needs_background": "light"
     },
     "output_type": "display_data"
    }
   ],
   "source": [
    "y_prediction = lin_reg.predict(x_test)\n",
    "\n",
    "plt.scatter(x_test, y_test)\n",
    "plt.plot(x_test, y_prediction, c=\"r\")\n",
    "plt.xlabel(\"Horsepower\")\n",
    "plt.ylabel(\"Price\")\n",
    "plt.title(\"Plot Horsepower vs Price\")"
   ]
  },
  {
   "cell_type": "code",
   "execution_count": null,
   "id": "aec2d4b0",
   "metadata": {},
   "outputs": [],
   "source": []
  },
  {
   "cell_type": "code",
   "execution_count": null,
   "id": "fd931ecd",
   "metadata": {},
   "outputs": [],
   "source": []
  }
 ],
 "metadata": {
  "kernelspec": {
   "display_name": "Python 3",
   "language": "python",
   "name": "python3"
  },
  "language_info": {
   "codemirror_mode": {
    "name": "ipython",
    "version": 3
   },
   "file_extension": ".py",
   "mimetype": "text/x-python",
   "name": "python",
   "nbconvert_exporter": "python",
   "pygments_lexer": "ipython3",
   "version": "3.8.8"
  },
  "toc": {
   "base_numbering": 1,
   "nav_menu": {},
   "number_sections": true,
   "sideBar": true,
   "skip_h1_title": false,
   "title_cell": "Table of Contents",
   "title_sidebar": "Contents",
   "toc_cell": false,
   "toc_position": {},
   "toc_section_display": true,
   "toc_window_display": false
  }
 },
 "nbformat": 4,
 "nbformat_minor": 5
}
